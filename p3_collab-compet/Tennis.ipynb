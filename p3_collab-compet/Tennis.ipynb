{
 "cells": [
  {
   "cell_type": "markdown",
   "metadata": {},
   "source": [
    "# Collaboration and Competition\n",
    "\n",
    "---\n",
    "\n",
    "In this notebook, you will learn how to use the Unity ML-Agents environment for the third project of the [Deep Reinforcement Learning Nanodegree](https://www.udacity.com/course/deep-reinforcement-learning-nanodegree--nd893) program.\n",
    "\n",
    "### 1. Start the Environment\n",
    "\n",
    "We begin by importing the necessary packages.  If the code cell below returns an error, please revisit the project instructions to double-check that you have installed [Unity ML-Agents](https://github.com/Unity-Technologies/ml-agents/blob/master/docs/Installation.md) and [NumPy](http://www.numpy.org/)."
   ]
  },
  {
   "cell_type": "code",
   "execution_count": 1,
   "metadata": {},
   "outputs": [
    {
     "name": "stdout",
     "output_type": "stream",
     "text": [
      "Requirement already satisfied: imageio in /home/kretyn/courses/DeRL/venv/lib/python3.8/site-packages (2.8.0)\n",
      "Requirement already satisfied: numpy in /home/kretyn/courses/DeRL/venv/lib/python3.8/site-packages (from imageio) (1.18.4)\n",
      "Requirement already satisfied: pillow in /home/kretyn/courses/DeRL/venv/lib/python3.8/site-packages (from imageio) (7.1.2)\n",
      "Requirement already satisfied: progressbar in /home/kretyn/courses/DeRL/venv/lib/python3.8/site-packages (2.5)\n"
     ]
    }
   ],
   "source": [
    "!pip install imageio\n",
    "!pip install progressbar"
   ]
  },
  {
   "cell_type": "code",
   "execution_count": 1,
   "metadata": {},
   "outputs": [],
   "source": [
    "from unityagents import UnityEnvironment\n",
    "import numpy as np\n",
    "import pylab as plt\n",
    "import time\n",
    "import torch\n",
    "import os"
   ]
  },
  {
   "cell_type": "code",
   "execution_count": 2,
   "metadata": {},
   "outputs": [],
   "source": [
    "import progressbar as pb"
   ]
  },
  {
   "cell_type": "markdown",
   "metadata": {},
   "source": [
    "Next, we will start the environment!  **_Before running the code cell below_**, change the `file_name` parameter to match the location of the Unity environment that you downloaded.\n",
    "\n",
    "- **Mac**: `\"path/to/Tennis.app\"`\n",
    "- **Windows** (x86): `\"path/to/Tennis_Windows_x86/Tennis.exe\"`\n",
    "- **Windows** (x86_64): `\"path/to/Tennis_Windows_x86_64/Tennis.exe\"`\n",
    "- **Linux** (x86): `\"path/to/Tennis_Linux/Tennis.x86\"`\n",
    "- **Linux** (x86_64): `\"path/to/Tennis_Linux/Tennis.x86_64\"`\n",
    "- **Linux** (x86, headless): `\"path/to/Tennis_Linux_NoVis/Tennis.x86\"`\n",
    "- **Linux** (x86_64, headless): `\"path/to/Tennis_Linux_NoVis/Tennis.x86_64\"`\n",
    "\n",
    "For instance, if you are using a Mac, then you downloaded `Tennis.app`.  If this file is in the same folder as the notebook, then the line below should appear as follows:\n",
    "```\n",
    "env = UnityEnvironment(file_name=\"Tennis.app\")\n",
    "```"
   ]
  },
  {
   "cell_type": "code",
   "execution_count": 3,
   "metadata": {},
   "outputs": [
    {
     "name": "stderr",
     "output_type": "stream",
     "text": [
      "INFO:unityagents:\n",
      "'Academy' started successfully!\n",
      "Unity Academy name: Academy\n",
      "        Number of Brains: 1\n",
      "        Number of External Brains : 1\n",
      "        Lesson number : 0\n",
      "        Reset Parameters :\n",
      "\t\t\n",
      "Unity brain name: TennisBrain\n",
      "        Number of Visual Observations (per agent): 0\n",
      "        Vector Observation space type: continuous\n",
      "        Vector Observation space size (per agent): 8\n",
      "        Number of stacked Vector Observation: 3\n",
      "        Vector Action space type: continuous\n",
      "        Vector Action space size (per agent): 2\n",
      "        Vector Action descriptions: , \n"
     ]
    }
   ],
   "source": [
    "env = UnityEnvironment(file_name=\"Tennis_Linux/Tennis.x86_64\")"
   ]
  },
  {
   "cell_type": "markdown",
   "metadata": {},
   "source": [
    "Environments contain **_brains_** which are responsible for deciding the actions of their associated agents. Here we check for the first brain available, and set it as the default brain we will be controlling from Python."
   ]
  },
  {
   "cell_type": "code",
   "execution_count": 4,
   "metadata": {},
   "outputs": [],
   "source": [
    "# get the default brain\n",
    "brain_name = env.brain_names[0]\n",
    "brain = env.brains[brain_name]"
   ]
  },
  {
   "cell_type": "markdown",
   "metadata": {},
   "source": [
    "### 2. Examine the State and Action Spaces\n",
    "\n",
    "In this environment, two agents control rackets to bounce a ball over a net. If an agent hits the ball over the net, it receives a reward of +0.1.  If an agent lets a ball hit the ground or hits the ball out of bounds, it receives a reward of -0.01.  Thus, the goal of each agent is to keep the ball in play.\n",
    "\n",
    "The observation space consists of 8 variables corresponding to the position and velocity of the ball and racket. Two continuous actions are available, corresponding to movement toward (or away from) the net, and jumping. \n",
    "\n",
    "Run the code cell below to print some information about the environment."
   ]
  },
  {
   "cell_type": "code",
   "execution_count": 5,
   "metadata": {},
   "outputs": [
    {
     "name": "stdout",
     "output_type": "stream",
     "text": [
      "Number of agents: 2\n",
      "Size of each action: 2\n",
      "There are 2 agents. Each observes a state with length: 24\n",
      "The state for the first agent looks like: [ 0.          0.          0.          0.          0.          0.\n",
      "  0.          0.          0.          0.          0.          0.\n",
      "  0.          0.          0.          0.         -6.65278625 -1.5\n",
      " -0.          0.          6.83172083  6.         -0.          0.        ]\n"
     ]
    }
   ],
   "source": [
    "# reset the environment\n",
    "env_info = env.reset(train_mode=True)[brain_name]\n",
    "\n",
    "# number of agents \n",
    "agents_number = num_agents = len(env_info.agents)\n",
    "print('Number of agents:', num_agents)\n",
    "\n",
    "# size of each action\n",
    "action_dim = action_size = brain.vector_action_space_size\n",
    "print('Size of each action:', action_size)\n",
    "\n",
    "# examine the state space \n",
    "states = env_info.vector_observations\n",
    "state_dim = state_size = states.shape[1]\n",
    "print('There are {} agents. Each observes a state with length: {}'.format(states.shape[0], state_size))\n",
    "print('The state for the first agent looks like:', states[0])"
   ]
  },
  {
   "cell_type": "markdown",
   "metadata": {},
   "source": [
    "### 3. Take Random Actions in the Environment\n",
    "\n",
    "In the next code cell, you will learn how to use the Python API to control the agents and receive feedback from the environment.\n",
    "\n",
    "Once this cell is executed, you will watch the agents' performance, if they select actions at random with each time step.  A window should pop up that allows you to observe the agents.\n",
    "\n",
    "Of course, as part of the project, you'll have to change the code so that the agents are able to use their experiences to gradually choose better actions when interacting with the environment!"
   ]
  },
  {
   "cell_type": "code",
   "execution_count": 6,
   "metadata": {
    "scrolled": false
   },
   "outputs": [
    {
     "name": "stdout",
     "output_type": "stream",
     "text": [
      "Score (max over agents) from episode 1: 0.0\n",
      "Score (max over agents) from episode 2: 0.0\n",
      "Score (max over agents) from episode 3: 0.0\n",
      "Score (max over agents) from episode 4: 0.0\n",
      "Score (max over agents) from episode 5: 0.0\n"
     ]
    }
   ],
   "source": [
    "import time\n",
    "for i in range(1, 6):                                      # play game for 5 episodes\n",
    "    env_info = env.reset(train_mode=False)[brain_name]     # reset the environment    \n",
    "    states = env_info.vector_observations                  # get the current state (for each agent)\n",
    "    scores = np.zeros(num_agents)                          # initialize the score (for each agent)\n",
    "    while True:\n",
    "        time.sleep(0.1)\n",
    "        actions = np.random.randn(num_agents, action_size) # select an action (for each agent)\n",
    "        actions = np.clip(actions, -1, 1)                  # all actions between -1 and 1\n",
    "        env_info = env.step(actions)[brain_name]           # send all actions to tne environment\n",
    "        next_states = env_info.vector_observations         # get next state (for each agent)\n",
    "        rewards = env_info.rewards                         # get reward (for each agent)\n",
    "        dones = env_info.local_done                        # see if episode finished\n",
    "        scores += env_info.rewards                         # update the score (for each agent)\n",
    "        states = next_states                               # roll over states to next time step\n",
    "        if np.any(dones):                                  # exit loop if episode finished\n",
    "            break\n",
    "    print('Score (max over agents) from episode {}: {}'.format(i, np.max(scores)))"
   ]
  },
  {
   "cell_type": "markdown",
   "metadata": {},
   "source": [
    "When finished, you can close the environment."
   ]
  },
  {
   "cell_type": "code",
   "execution_count": 69,
   "metadata": {},
   "outputs": [],
   "source": [
    "env.close()"
   ]
  },
  {
   "cell_type": "markdown",
   "metadata": {},
   "source": [
    "### 4. It's Your Turn!\n",
    "\n",
    "Now it's your turn to train your own agent to solve the environment!  When training the environment, set `train_mode=True`, so that the line for resetting the environment looks like the following:\n",
    "```python\n",
    "env_info = env.reset(train_mode=True)[brain_name]\n",
    "```"
   ]
  },
  {
   "cell_type": "code",
   "execution_count": 7,
   "metadata": {},
   "outputs": [],
   "source": [
    "%load_ext autoreload"
   ]
  },
  {
   "cell_type": "code",
   "execution_count": 8,
   "metadata": {},
   "outputs": [],
   "source": [
    "%autoreload 2"
   ]
  },
  {
   "cell_type": "code",
   "execution_count": 9,
   "metadata": {},
   "outputs": [],
   "source": [
    "from buffers import ReplayBuffer\n",
    "from utilities import transpose_list, transpose_to_tensor\n",
    "from torch import tensor"
   ]
  },
  {
   "cell_type": "code",
   "execution_count": 10,
   "metadata": {},
   "outputs": [],
   "source": [
    "# for saving gif\n",
    "import imageio"
   ]
  },
  {
   "cell_type": "code",
   "execution_count": 11,
   "metadata": {},
   "outputs": [],
   "source": [
    "def moving_average(a, n=100) :\n",
    "    ret = np.cumsum(np.concatenate([np.zeros(n), a]), dtype=float)\n",
    "    ret[n:] = ret[n:] - ret[:-n]\n",
    "    n_arr = np.clip(np.arange(1, len(a)+1), 1, n)\n",
    "    return ret[n:] / n_arr"
   ]
  },
  {
   "cell_type": "code",
   "execution_count": 12,
   "metadata": {},
   "outputs": [],
   "source": [
    "def seeding(seed=1):\n",
    "    np.random.seed(seed)\n",
    "    torch.manual_seed(seed)\n",
    "\n",
    "def pre_process(entity, batchsize):\n",
    "    processed_entity = []\n",
    "    for j in range(3):\n",
    "        list = []\n",
    "        for i in range(batchsize):\n",
    "            b = entity[i][j]\n",
    "            list.append(b)\n",
    "        c = torch.Tensor(list)\n",
    "        processed_entity.append(c)\n",
    "    return processed_entity"
   ]
  },
  {
   "cell_type": "code",
   "execution_count": 13,
   "metadata": {},
   "outputs": [],
   "source": [
    "class Task:\n",
    "    def __init__(self, env, brain_name):\n",
    "        self.env = env\n",
    "        self.brain_name = brain_name\n",
    "        self.reset()\n",
    "        \n",
    "        uniform = torch.distributions.Uniform(-1, 1)\n",
    "        uniform._batch_shape = torch.Size([1, env.brains[brain_name].vector_action_space_size])\n",
    "        \n",
    "        self.action_space = uniform\n",
    "        \n",
    "    def reset(self, train_mode=True):\n",
    "        out = self.env.reset(train_mode=train_mode)[brain_name]     # reset the environment\n",
    "        return out.vector_observations.astype(np.float32)\n",
    "    \n",
    "    def step(self, action):\n",
    "        out = env.step(action)[self.brain_name]\n",
    "        state = out.vector_observations.astype(np.float32)\n",
    "        rewards = out.rewards\n",
    "        done = out.local_done\n",
    "        info = out.text_observations\n",
    "        return (state, rewards, done, info)"
   ]
  },
  {
   "cell_type": "code",
   "execution_count": 14,
   "metadata": {},
   "outputs": [],
   "source": [
    "task = Task(env, brain_name)"
   ]
  },
  {
   "cell_type": "code",
   "execution_count": 15,
   "metadata": {},
   "outputs": [],
   "source": [
    "from maddpg import MADDPG\n",
    "maddpg = MADDPG(state_dim, action_dim, agents_number)"
   ]
  },
  {
   "cell_type": "code",
   "execution_count": 16,
   "metadata": {},
   "outputs": [
    {
     "name": "stdout",
     "output_type": "stream",
     "text": [
      "ActorBody(\n",
      "  (layers): ModuleList(\n",
      "    (0): Linear(in_features=24, out_features=100, bias=True)\n",
      "    (1): Linear(in_features=100, out_features=100, bias=True)\n",
      "    (2): Linear(in_features=100, out_features=2, bias=True)\n",
      "  )\n",
      ")\n",
      "CriticBody(\n",
      "  (layers): ModuleList(\n",
      "    (0): Linear(in_features=24, out_features=100, bias=True)\n",
      "    (1): Linear(in_features=102, out_features=100, bias=True)\n",
      "    (2): Linear(in_features=100, out_features=1, bias=True)\n",
      "  )\n",
      ")\n"
     ]
    }
   ],
   "source": [
    "print(maddpg.maddpg_agent[0].actor)\n",
    "print(maddpg.maddpg_agent[0].critic)"
   ]
  },
  {
   "cell_type": "code",
   "execution_count": 65,
   "metadata": {},
   "outputs": [],
   "source": [
    "seeding(12319)"
   ]
  },
  {
   "cell_type": "markdown",
   "metadata": {},
   "source": [
    "Observations:\n",
    "    * At least 13 iter per episode\n",
    "    * Average 16 iterations per episode (poor)"
   ]
  },
  {
   "cell_type": "code",
   "execution_count": 47,
   "metadata": {},
   "outputs": [],
   "source": [
    "# number of training episodes.\n",
    "# change this to higher number to experiment. say 30000.\n",
    "number_of_episodes = 20000\n",
    "max_episode_length = 1000\n",
    "batch_size = 64\n",
    "buffer_size = int(1e5)\n",
    "warm_up_period = 400 # iterations\n",
    "\n",
    "# amplitude of OU noise\n",
    "# this slowly decreases to 0\n",
    "noise = 1\n",
    "noise_reduction = 0.999\n",
    "\n",
    "# how many episodes before update\n",
    "episode_per_update = 1\n",
    "episode_score_every = 100\n",
    "save_interval = 200\n",
    "\n",
    "model_dir= os.getcwd()+\"/model_dir\"\n",
    "\n",
    "os.makedirs(model_dir, exist_ok=True)\n",
    "\n",
    "# keep 5000 episodes worth of replay\n",
    "buffer = ReplayBuffer(batch_size, buffer_size)\n",
    "\n",
    "# initialize policy and critic\n",
    "maddpg = MADDPG(state_dim, action_dim, agents_number, tau=0.005)\n",
    "all_rewards = np.zeros((number_of_episodes, agents_number))\n",
    "iter_per_eposide = np.zeros(number_of_episodes)"
   ]
  },
  {
   "cell_type": "code",
   "execution_count": null,
   "metadata": {
    "scrolled": false
   },
   "outputs": [
    {
     "name": "stderr",
     "output_type": "stream",
     "text": [
      "<ipython-input-48-075e63f15352>:51: RuntimeWarning: Mean of empty slice.     | \n",
      "  print(f'Ep {episode:4}. Rewards avg 100: {np.max(_r, axis=1).mean():5.2} = {_r[:, 0].mean():5.2}  --  {_r[:, 1].mean():5.2}')\n",
      "/home/kretyn/courses/DeRL/venv/lib/python3.8/site-packages/numpy/core/_methods.py:161: RuntimeWarning: invalid value encountered in double_scalars\n",
      "  ret = ret.dtype.type(ret / rcount)\n"
     ]
    },
    {
     "name": "stdout",
     "output_type": "stream",
     "text": [
      "Ep    0. Rewards avg 100:   nan =   nan  --    nan\n"
     ]
    },
    {
     "name": "stderr",
     "output_type": "stream",
     "text": [
      "/home/kretyn/courses/DeRL/venv/lib/python3.8/site-packages/torch/nn/modules/loss.py:798: UserWarning: Using a target size (torch.Size([64, 64])) that is different to the input size (torch.Size([64, 1])). This will likely lead to incorrect results due to broadcasting. Please ensure they have the same size.\n",
      "  return F.smooth_l1_loss(input, target, reduction=self.reduction)\n",
      "episode: 104/20000   0% ETA:  0:16:20 |                                      | \r"
     ]
    },
    {
     "name": "stdout",
     "output_type": "stream",
     "text": [
      "Ep  100. Rewards avg 100:   0.0 = -0.0042  --  -0.0058\n"
     ]
    },
    {
     "name": "stderr",
     "output_type": "stream",
     "text": [
      "episode: 203/20000   1% ETA:  0:16:33 |                                      | \r"
     ]
    },
    {
     "name": "stdout",
     "output_type": "stream",
     "text": [
      "Ep  200. Rewards avg 100:   0.0 = -0.0043  --  -0.0057\n"
     ]
    },
    {
     "name": "stderr",
     "output_type": "stream",
     "text": [
      "episode: 303/20000   1% ETA:  0:16:38 |                                      | \r"
     ]
    },
    {
     "name": "stdout",
     "output_type": "stream",
     "text": [
      "Ep  300. Rewards avg 100:   0.0 = -0.0046  --  -0.0054\n"
     ]
    },
    {
     "name": "stderr",
     "output_type": "stream",
     "text": [
      "episode: 401/20000   2% ETA:  0:16:45 |                                      | \r"
     ]
    },
    {
     "name": "stdout",
     "output_type": "stream",
     "text": [
      "Ep  400. Rewards avg 100:   0.0 = -0.0052  --  -0.0048\n"
     ]
    },
    {
     "name": "stderr",
     "output_type": "stream",
     "text": [
      "episode: 499/20000   2% ETA:  0:16:43 |                                      | \r"
     ]
    },
    {
     "name": "stdout",
     "output_type": "stream",
     "text": [
      "Ep  500. Rewards avg 100:   0.0 = -0.0055  --  -0.0045\n"
     ]
    },
    {
     "name": "stderr",
     "output_type": "stream",
     "text": [
      "episode: 599/20000   2% ETA:  0:16:39 |-                                     | \r"
     ]
    },
    {
     "name": "stdout",
     "output_type": "stream",
     "text": [
      "Ep  600. Rewards avg 100:   0.0 = -0.0054  --  -0.0046\n"
     ]
    },
    {
     "name": "stderr",
     "output_type": "stream",
     "text": [
      "episode: 698/20000   3% ETA:  0:16:35 |\\                                     | \r"
     ]
    },
    {
     "name": "stdout",
     "output_type": "stream",
     "text": [
      "Ep  700. Rewards avg 100:   0.0 = -0.0049  --  -0.0051\n"
     ]
    },
    {
     "name": "stderr",
     "output_type": "stream",
     "text": [
      "episode: 797/20000   3% ETA:  0:16:31 ||                                     | \r"
     ]
    },
    {
     "name": "stdout",
     "output_type": "stream",
     "text": [
      "Ep  800. Rewards avg 100:   0.0 = -0.0047  --  -0.0053\n"
     ]
    },
    {
     "name": "stderr",
     "output_type": "stream",
     "text": [
      "episode: 896/20000   4% ETA:  0:16:27 |/                                     | \r"
     ]
    },
    {
     "name": "stdout",
     "output_type": "stream",
     "text": [
      "Ep  900. Rewards avg 100:   0.0 = -0.0052  --  -0.0048\n"
     ]
    },
    {
     "name": "stderr",
     "output_type": "stream",
     "text": [
      "episode: 995/20000   4% ETA:  0:16:23 |-                                     | \r"
     ]
    },
    {
     "name": "stdout",
     "output_type": "stream",
     "text": [
      "Ep 1000. Rewards avg 100:   0.0 = -0.0045  --  -0.0055\n"
     ]
    },
    {
     "name": "stderr",
     "output_type": "stream",
     "text": [
      "episode: 1094/20000   5% ETA:  0:16:19 |\\\\                                   | \r"
     ]
    },
    {
     "name": "stdout",
     "output_type": "stream",
     "text": [
      "Ep 1100. Rewards avg 100:   0.0 = -0.0049  --  -0.0051\n"
     ]
    },
    {
     "name": "stderr",
     "output_type": "stream",
     "text": [
      "episode: 1194/20000   5% ETA:  0:16:13 |||                                   | \r"
     ]
    },
    {
     "name": "stdout",
     "output_type": "stream",
     "text": [
      "Ep 1200. Rewards avg 100:   0.0 = -0.0044  --  -0.0056\n"
     ]
    },
    {
     "name": "stderr",
     "output_type": "stream",
     "text": [
      "episode: 1293/20000   6% ETA:  0:16:09 |//                                   | \r"
     ]
    },
    {
     "name": "stdout",
     "output_type": "stream",
     "text": [
      "Ep 1300. Rewards avg 100:   0.0 = -0.0048  --  -0.0052\n"
     ]
    },
    {
     "name": "stderr",
     "output_type": "stream",
     "text": [
      "episode: 1393/20000   6% ETA:  0:16:04 |--                                   | \r"
     ]
    },
    {
     "name": "stdout",
     "output_type": "stream",
     "text": [
      "Ep 1400. Rewards avg 100:   0.0 = -0.0057  --  -0.0043\n"
     ]
    },
    {
     "name": "stderr",
     "output_type": "stream",
     "text": [
      "episode: 1490/20000   7% ETA:  0:16:01 |\\\\                                   | \r"
     ]
    },
    {
     "name": "stdout",
     "output_type": "stream",
     "text": [
      "Ep 1500. Rewards avg 100:   0.0 = -0.005  --  -0.005\n"
     ]
    },
    {
     "name": "stderr",
     "output_type": "stream",
     "text": [
      "episode: 1586/20000   7% ETA:  0:15:58 |||                                   | \r"
     ]
    },
    {
     "name": "stdout",
     "output_type": "stream",
     "text": [
      "Ep 1600. Rewards avg 100:   0.0 = -0.0053  --  -0.0047\n"
     ]
    },
    {
     "name": "stderr",
     "output_type": "stream",
     "text": [
      "episode: 1703/20000   8% ETA:  0:15:53 |---                                  | \r"
     ]
    },
    {
     "name": "stdout",
     "output_type": "stream",
     "text": [
      "Ep 1700. Rewards avg 100:   0.0 = -0.0051  --  -0.0049\n"
     ]
    },
    {
     "name": "stderr",
     "output_type": "stream",
     "text": [
      "episode: 1800/20000   9% ETA:  0:15:48 |\\\\\\                                  | \r"
     ]
    },
    {
     "name": "stdout",
     "output_type": "stream",
     "text": [
      "Ep 1800. Rewards avg 100:   0.0 = -0.0054  --  -0.0046\n"
     ]
    },
    {
     "name": "stderr",
     "output_type": "stream",
     "text": [
      "episode: 1896/20000   9% ETA:  0:15:44 ||||                                  | \r"
     ]
    },
    {
     "name": "stdout",
     "output_type": "stream",
     "text": [
      "Ep 1900. Rewards avg 100:   0.0 = -0.005  --  -0.005\n"
     ]
    },
    {
     "name": "stderr",
     "output_type": "stream",
     "text": [
      "episode: 1992/20000   9% ETA:  0:15:40 |///                                  | \r"
     ]
    },
    {
     "name": "stdout",
     "output_type": "stream",
     "text": [
      "Ep 2000. Rewards avg 100:   0.0 = -0.0052  --  -0.0048\n"
     ]
    },
    {
     "name": "stderr",
     "output_type": "stream",
     "text": [
      "episode: 2090/20000  10% ETA:  0:15:35 |---                                  | \r"
     ]
    },
    {
     "name": "stdout",
     "output_type": "stream",
     "text": [
      "Ep 2100. Rewards avg 100:   0.0 = -0.005  --  -0.005\n"
     ]
    },
    {
     "name": "stderr",
     "output_type": "stream",
     "text": [
      "episode: 2189/20000  10% ETA:  0:15:30 |\\\\\\\\                                 | \r"
     ]
    },
    {
     "name": "stdout",
     "output_type": "stream",
     "text": [
      "Ep 2200. Rewards avg 100:   0.0 = -0.0047  --  -0.0053\n"
     ]
    },
    {
     "name": "stderr",
     "output_type": "stream",
     "text": [
      "episode: 2286/20000  11% ETA:  0:15:25 |||||                                 | \r"
     ]
    },
    {
     "name": "stdout",
     "output_type": "stream",
     "text": [
      "Ep 2300. Rewards avg 100:   0.0 = -0.0057  --  -0.0043\n"
     ]
    },
    {
     "name": "stderr",
     "output_type": "stream",
     "text": [
      "episode: 2402/20000  12% ETA:  0:15:20 |----                                 | \r"
     ]
    },
    {
     "name": "stdout",
     "output_type": "stream",
     "text": [
      "Ep 2400. Rewards avg 100:   0.0 = -0.0054  --  -0.0046\n"
     ]
    },
    {
     "name": "stderr",
     "output_type": "stream",
     "text": [
      "episode: 2499/20000  12% ETA:  0:15:15 |\\\\\\\\                                 | \r"
     ]
    },
    {
     "name": "stdout",
     "output_type": "stream",
     "text": [
      "Ep 2500. Rewards avg 100:   0.0 = -0.0042  --  -0.0058\n"
     ]
    },
    {
     "name": "stderr",
     "output_type": "stream",
     "text": [
      "episode: 2599/20000  12% ETA:  0:15:10 |||||                                 | \r"
     ]
    },
    {
     "name": "stdout",
     "output_type": "stream",
     "text": [
      "Ep 2600. Rewards avg 100:   0.0 = -0.0049  --  -0.0051\n"
     ]
    },
    {
     "name": "stderr",
     "output_type": "stream",
     "text": [
      "episode: 2691/20000  13% ETA:  0:15:06 |////                                 | \r"
     ]
    },
    {
     "name": "stdout",
     "output_type": "stream",
     "text": [
      "Ep 2700. Rewards avg 100:   0.0 = -0.0049  --  -0.0051\n"
     ]
    },
    {
     "name": "stderr",
     "output_type": "stream",
     "text": [
      "episode: 2789/20000  13% ETA:  0:15:01 |-----                                | \r"
     ]
    },
    {
     "name": "stdout",
     "output_type": "stream",
     "text": [
      "Ep 2800. Rewards avg 100:   0.0 = -0.005  --  -0.005\n"
     ]
    },
    {
     "name": "stderr",
     "output_type": "stream",
     "text": [
      "episode: 2888/20000  14% ETA:  0:14:56 |\\\\\\\\\\                                | \r"
     ]
    },
    {
     "name": "stdout",
     "output_type": "stream",
     "text": [
      "Ep 2900. Rewards avg 100:   0.0 = -0.0049  --  -0.0051\n"
     ]
    },
    {
     "name": "stderr",
     "output_type": "stream",
     "text": [
      "episode: 3003/20000  15% ETA:  0:14:51 |/////                                | \r"
     ]
    },
    {
     "name": "stdout",
     "output_type": "stream",
     "text": [
      "Ep 3000. Rewards avg 100:   0.0 = -0.0041  --  -0.0059\n"
     ]
    },
    {
     "name": "stderr",
     "output_type": "stream",
     "text": [
      "episode: 3101/20000  15% ETA:  0:14:46 |-----                                | \r"
     ]
    },
    {
     "name": "stdout",
     "output_type": "stream",
     "text": [
      "Ep 3100. Rewards avg 100:   0.0 = -0.0049  --  -0.0051\n"
     ]
    },
    {
     "name": "stderr",
     "output_type": "stream",
     "text": [
      "episode: 3199/20000  15% ETA:  0:14:41 |\\\\\\\\\\                                | \r"
     ]
    },
    {
     "name": "stdout",
     "output_type": "stream",
     "text": [
      "Ep 3200. Rewards avg 100:   0.0 = -0.0049  --  -0.0051\n"
     ]
    },
    {
     "name": "stderr",
     "output_type": "stream",
     "text": [
      "episode: 3296/20000  16% ETA:  0:14:36 |||||||                               | \r"
     ]
    },
    {
     "name": "stdout",
     "output_type": "stream",
     "text": [
      "Ep 3300. Rewards avg 100:   0.0 = -0.0045  --  -0.0055\n"
     ]
    },
    {
     "name": "stderr",
     "output_type": "stream",
     "text": [
      "episode: 3395/20000  16% ETA:  0:14:31 |//////                               | \r"
     ]
    },
    {
     "name": "stdout",
     "output_type": "stream",
     "text": [
      "Ep 3400. Rewards avg 100:   0.0 = -0.0053  --  -0.0047\n"
     ]
    },
    {
     "name": "stderr",
     "output_type": "stream",
     "text": [
      "episode: 3493/20000  17% ETA:  0:14:26 |------                               | \r"
     ]
    },
    {
     "name": "stdout",
     "output_type": "stream",
     "text": [
      "Ep 3500. Rewards avg 100:   0.0 = -0.0054  --  -0.0046\n"
     ]
    },
    {
     "name": "stderr",
     "output_type": "stream",
     "text": [
      "episode: 3593/20000  17% ETA:  0:14:20 |\\\\\\\\\\\\                               | \r"
     ]
    },
    {
     "name": "stdout",
     "output_type": "stream",
     "text": [
      "Ep 3600. Rewards avg 100:   0.0 = -0.0048  --  -0.0052\n"
     ]
    },
    {
     "name": "stderr",
     "output_type": "stream",
     "text": [
      "episode: 3692/20000  18% ETA:  0:14:15 |||||||                               | \r"
     ]
    },
    {
     "name": "stdout",
     "output_type": "stream",
     "text": [
      "Ep 3700. Rewards avg 100:   0.0 = -0.0054  --  -0.0046\n"
     ]
    },
    {
     "name": "stderr",
     "output_type": "stream",
     "text": [
      "episode: 3791/20000  18% ETA:  0:14:10 |///////                              | \r"
     ]
    },
    {
     "name": "stdout",
     "output_type": "stream",
     "text": [
      "Ep 3800. Rewards avg 100:   0.0 = -0.0057  --  -0.0043\n"
     ]
    },
    {
     "name": "stderr",
     "output_type": "stream",
     "text": [
      "episode: 3886/20000  19% ETA:  0:14:05 |-------                              | \r"
     ]
    },
    {
     "name": "stdout",
     "output_type": "stream",
     "text": [
      "Ep 3900. Rewards avg 100:   0.0 = -0.0057  --  -0.0043\n"
     ]
    },
    {
     "name": "stderr",
     "output_type": "stream",
     "text": [
      "episode: 4004/20000  20% ETA:  0:13:59 ||||||||                              | \r"
     ]
    },
    {
     "name": "stdout",
     "output_type": "stream",
     "text": [
      "Ep 4000. Rewards avg 100:   0.0 = -0.0059  --  -0.0041\n"
     ]
    },
    {
     "name": "stderr",
     "output_type": "stream",
     "text": [
      "episode: 4099/20000  20% ETA:  0:13:54 |///////                              | \r"
     ]
    },
    {
     "name": "stdout",
     "output_type": "stream",
     "text": [
      "Ep 4100. Rewards avg 100:   0.0 = -0.0049  --  -0.0051\n"
     ]
    },
    {
     "name": "stderr",
     "output_type": "stream",
     "text": [
      "episode: 4194/20000  20% ETA:  0:13:49 |-------                              | \r"
     ]
    },
    {
     "name": "stdout",
     "output_type": "stream",
     "text": [
      "Ep 4200. Rewards avg 100:   0.0 = -0.0048  --  -0.0052\n"
     ]
    },
    {
     "name": "stderr",
     "output_type": "stream",
     "text": [
      "episode: 4288/20000  21% ETA:  0:13:45 |\\\\\\\\\\\\\\                              | \r"
     ]
    },
    {
     "name": "stdout",
     "output_type": "stream",
     "text": [
      "Ep 4300. Rewards avg 100:   0.0 = -0.0051  --  -0.0049\n"
     ]
    },
    {
     "name": "stderr",
     "output_type": "stream",
     "text": [
      "episode: 4402/20000  22% ETA:  0:13:39 |////////                             | \r"
     ]
    },
    {
     "name": "stdout",
     "output_type": "stream",
     "text": [
      "Ep 4400. Rewards avg 100:   0.0 = -0.0044  --  -0.0056\n"
     ]
    },
    {
     "name": "stderr",
     "output_type": "stream",
     "text": [
      "episode: 4497/20000  22% ETA:  0:13:35 |--------                             | \r"
     ]
    },
    {
     "name": "stdout",
     "output_type": "stream",
     "text": [
      "Ep 4500. Rewards avg 100:   0.0 = -0.0052  --  -0.0048\n"
     ]
    },
    {
     "name": "stderr",
     "output_type": "stream",
     "text": [
      "episode: 4590/20000  22% ETA:  0:13:30 |\\\\\\\\\\\\\\\\                             | \r"
     ]
    },
    {
     "name": "stdout",
     "output_type": "stream",
     "text": [
      "Ep 4600. Rewards avg 100:   0.0 = -0.006  --  -0.004\n"
     ]
    },
    {
     "name": "stderr",
     "output_type": "stream",
     "text": [
      "episode: 4703/20000  23% ETA:  0:13:25 |////////                             | \r"
     ]
    },
    {
     "name": "stdout",
     "output_type": "stream",
     "text": [
      "Ep 4700. Rewards avg 100:   0.0 = -0.0048  --  -0.0052\n"
     ]
    },
    {
     "name": "stderr",
     "output_type": "stream",
     "text": [
      "episode: 4800/20000  24% ETA:  0:13:20 |--------                             | \r"
     ]
    },
    {
     "name": "stdout",
     "output_type": "stream",
     "text": [
      "Ep 4800. Rewards avg 100:   0.0 = -0.005  --  -0.005\n"
     ]
    },
    {
     "name": "stderr",
     "output_type": "stream",
     "text": [
      "episode: 4894/20000  24% ETA:  0:13:16 |\\\\\\\\\\\\\\\\\\                            | \r"
     ]
    },
    {
     "name": "stdout",
     "output_type": "stream",
     "text": [
      "Ep 4900. Rewards avg 100:   0.0 = -0.0042  --  -0.0058\n"
     ]
    },
    {
     "name": "stderr",
     "output_type": "stream",
     "text": [
      "episode: 4988/20000  24% ETA:  0:13:11 ||||||||||                            | \r"
     ]
    },
    {
     "name": "stdout",
     "output_type": "stream",
     "text": [
      "Ep 5000. Rewards avg 100:   0.0 = -0.0051  --  -0.0049\n"
     ]
    },
    {
     "name": "stderr",
     "output_type": "stream",
     "text": [
      "episode: 5102/20000  25% ETA:  0:13:05 |---------                            | \r"
     ]
    },
    {
     "name": "stdout",
     "output_type": "stream",
     "text": [
      "Ep 5100. Rewards avg 100:   0.0 = -0.0054  --  -0.0046\n"
     ]
    },
    {
     "name": "stderr",
     "output_type": "stream",
     "text": [
      "episode: 5198/20000  25% ETA:  0:13:00 |\\\\\\\\\\\\\\\\\\                            | \r"
     ]
    },
    {
     "name": "stdout",
     "output_type": "stream",
     "text": [
      "Ep 5200. Rewards avg 100:   0.0 = -0.0053  --  -0.0047\n"
     ]
    },
    {
     "name": "stderr",
     "output_type": "stream",
     "text": [
      "episode: 5293/20000  26% ETA:  0:12:56 ||||||||||                            | \r"
     ]
    },
    {
     "name": "stdout",
     "output_type": "stream",
     "text": [
      "Ep 5300. Rewards avg 100:   0.0 = -0.0045  --  -0.0055\n"
     ]
    },
    {
     "name": "stderr",
     "output_type": "stream",
     "text": [
      "episode: 5390/20000  26% ETA:  0:12:51 |/////////                            | \r"
     ]
    },
    {
     "name": "stdout",
     "output_type": "stream",
     "text": [
      "Ep 5400. Rewards avg 100:   0.0 = -0.0046  --  -0.0054\n"
     ]
    },
    {
     "name": "stderr",
     "output_type": "stream",
     "text": [
      "episode: 5503/20000  27% ETA:  0:12:45 |\\\\\\\\\\\\\\\\\\\\                           | \r"
     ]
    },
    {
     "name": "stdout",
     "output_type": "stream",
     "text": [
      "Ep 5500. Rewards avg 100:   0.0 = -0.0046  --  -0.0054\n"
     ]
    },
    {
     "name": "stderr",
     "output_type": "stream",
     "text": [
      "episode: 5597/20000  27% ETA:  0:12:40 |||||||||||                           | \r"
     ]
    },
    {
     "name": "stdout",
     "output_type": "stream",
     "text": [
      "Ep 5600. Rewards avg 100: 0.001 = -0.0043  --  -0.0047\n"
     ]
    },
    {
     "name": "stderr",
     "output_type": "stream",
     "text": [
      "episode: 5691/20000  28% ETA:  0:12:36 |//////////                           | \r"
     ]
    },
    {
     "name": "stdout",
     "output_type": "stream",
     "text": [
      "Ep 5700. Rewards avg 100: 0.003 = -0.002  --  -0.005\n"
     ]
    },
    {
     "name": "stderr",
     "output_type": "stream",
     "text": [
      "episode: 5804/20000  29% ETA:  0:12:30 |\\\\\\\\\\\\\\\\\\\\                           | \r"
     ]
    },
    {
     "name": "stdout",
     "output_type": "stream",
     "text": [
      "Ep 5800. Rewards avg 100:   0.0 = -0.0047  --  -0.0053\n"
     ]
    },
    {
     "name": "stderr",
     "output_type": "stream",
     "text": [
      "episode: 5898/20000  29% ETA:  0:12:25 |||||||||||                           | \r"
     ]
    },
    {
     "name": "stdout",
     "output_type": "stream",
     "text": [
      "Ep 5900. Rewards avg 100:   0.0 = -0.004  --  -0.006\n"
     ]
    },
    {
     "name": "stderr",
     "output_type": "stream",
     "text": [
      "episode: 5994/20000  29% ETA:  0:12:20 |///////////                          | \r"
     ]
    },
    {
     "name": "stdout",
     "output_type": "stream",
     "text": [
      "Ep 6000. Rewards avg 100:   0.0 = -0.0048  --  -0.0052\n"
     ]
    },
    {
     "name": "stderr",
     "output_type": "stream",
     "text": [
      "episode: 6087/20000  30% ETA:  0:12:16 |-----------                          | \r"
     ]
    },
    {
     "name": "stdout",
     "output_type": "stream",
     "text": [
      "Ep 6100. Rewards avg 100:   0.0 = -0.0047  --  -0.0053\n"
     ]
    },
    {
     "name": "stderr",
     "output_type": "stream",
     "text": [
      "episode: 6196/20000  30% ETA:  0:12:11 ||||||||||||                          | \r"
     ]
    },
    {
     "name": "stdout",
     "output_type": "stream",
     "text": [
      "Ep 6200. Rewards avg 100:   0.0 = -0.0047  --  -0.0053\n"
     ]
    },
    {
     "name": "stderr",
     "output_type": "stream",
     "text": [
      "episode: 6286/20000  31% ETA:  0:12:07 |///////////                          | \r"
     ]
    },
    {
     "name": "stdout",
     "output_type": "stream",
     "text": [
      "Ep 6300. Rewards avg 100:   0.0 = -0.0053  --  -0.0047\n"
     ]
    },
    {
     "name": "stderr",
     "output_type": "stream",
     "text": [
      "episode: 6401/20000  32% ETA:  0:12:01 |\\\\\\\\\\\\\\\\\\\\\\                          | \r"
     ]
    },
    {
     "name": "stdout",
     "output_type": "stream",
     "text": [
      "Ep 6400. Rewards avg 100:   0.0 = -0.005  --  -0.005\n"
     ]
    },
    {
     "name": "stderr",
     "output_type": "stream",
     "text": [
      "episode: 6496/20000  32% ETA:  0:11:56 |||||||||||||                         | \r"
     ]
    },
    {
     "name": "stdout",
     "output_type": "stream",
     "text": [
      "Ep 6500. Rewards avg 100:   0.0 = -0.0051  --  -0.0049\n"
     ]
    },
    {
     "name": "stderr",
     "output_type": "stream",
     "text": [
      "episode: 6589/20000  32% ETA:  0:11:52 |////////////                         | \r"
     ]
    },
    {
     "name": "stdout",
     "output_type": "stream",
     "text": [
      "Ep 6600. Rewards avg 100: 0.002 = -0.0028  --  -0.0042\n"
     ]
    },
    {
     "name": "stderr",
     "output_type": "stream",
     "text": [
      "episode: 6701/20000  33% ETA:  0:11:46 |\\\\\\\\\\\\\\\\\\\\\\\\                         | \r"
     ]
    },
    {
     "name": "stdout",
     "output_type": "stream",
     "text": [
      "Ep 6700. Rewards avg 100:   0.0 = -0.0057  --  -0.0043\n"
     ]
    },
    {
     "name": "stderr",
     "output_type": "stream",
     "text": [
      "episode: 6795/20000  33% ETA:  0:11:41 |||||||||||||                         | \r"
     ]
    },
    {
     "name": "stdout",
     "output_type": "stream",
     "text": [
      "Ep 6800. Rewards avg 100:   0.0 = -0.0052  --  -0.0048\n"
     ]
    },
    {
     "name": "stderr",
     "output_type": "stream",
     "text": [
      "episode: 6893/20000  34% ETA:  0:11:38 |------------                         | \r"
     ]
    },
    {
     "name": "stdout",
     "output_type": "stream",
     "text": [
      "Ep 6900. Rewards avg 100:   0.0 = -0.004  --  -0.006\n"
     ]
    },
    {
     "name": "stderr",
     "output_type": "stream",
     "text": [
      "episode: 6987/20000  34% ETA:  0:11:35 |||||||||||||                         | \r"
     ]
    },
    {
     "name": "stdout",
     "output_type": "stream",
     "text": [
      "Ep 7000. Rewards avg 100:   0.0 = -0.0052  --  -0.0048\n"
     ]
    },
    {
     "name": "stderr",
     "output_type": "stream",
     "text": [
      "episode: 7097/20000  35% ETA:  0:11:30 |-------------                        | \r"
     ]
    },
    {
     "name": "stdout",
     "output_type": "stream",
     "text": [
      "Ep 7100. Rewards avg 100:   0.0 = -0.0047  --  -0.0053\n"
     ]
    },
    {
     "name": "stderr",
     "output_type": "stream",
     "text": [
      "episode: 7190/20000  35% ETA:  0:11:25 |\\\\\\\\\\\\\\\\\\\\\\\\\\                        | \r"
     ]
    },
    {
     "name": "stdout",
     "output_type": "stream",
     "text": [
      "Ep 7200. Rewards avg 100:   0.0 = -0.0061  --  -0.0039\n"
     ]
    },
    {
     "name": "stderr",
     "output_type": "stream",
     "text": [
      "episode: 7303/20000  36% ETA:  0:11:19 |/////////////                        | \r"
     ]
    },
    {
     "name": "stdout",
     "output_type": "stream",
     "text": [
      "Ep 7300. Rewards avg 100:   0.0 = -0.0054  --  -0.0046\n"
     ]
    },
    {
     "name": "stderr",
     "output_type": "stream",
     "text": [
      "episode: 7399/20000  36% ETA:  0:11:14 |-------------                        | \r"
     ]
    },
    {
     "name": "stdout",
     "output_type": "stream",
     "text": [
      "Ep 7400. Rewards avg 100:   0.0 = -0.0045  --  -0.0055\n"
     ]
    },
    {
     "name": "stderr",
     "output_type": "stream",
     "text": [
      "episode: 7493/20000  37% ETA:  0:11:09 |\\\\\\\\\\\\\\\\\\\\\\\\\\                        | \r"
     ]
    },
    {
     "name": "stdout",
     "output_type": "stream",
     "text": [
      "Ep 7500. Rewards avg 100:   0.0 = -0.0062  --  -0.0038\n"
     ]
    },
    {
     "name": "stderr",
     "output_type": "stream",
     "text": [
      "episode: 7592/20000  37% ETA:  0:11:04 |||||||||||||||                       | \r"
     ]
    },
    {
     "name": "stdout",
     "output_type": "stream",
     "text": [
      "Ep 7600. Rewards avg 100:   0.0 = -0.005  --  -0.005\n"
     ]
    },
    {
     "name": "stderr",
     "output_type": "stream",
     "text": [
      "episode: 7686/20000  38% ETA:  0:10:59 |//////////////                       | \r"
     ]
    },
    {
     "name": "stdout",
     "output_type": "stream",
     "text": [
      "Ep 7700. Rewards avg 100:   0.0 = -0.0056  --  -0.0044\n"
     ]
    },
    {
     "name": "stderr",
     "output_type": "stream",
     "text": [
      "episode: 7800/20000  39% ETA:  0:10:53 |\\\\\\\\\\\\\\\\\\\\\\\\\\\\                       | \r"
     ]
    },
    {
     "name": "stdout",
     "output_type": "stream",
     "text": [
      "Ep 7800. Rewards avg 100:   0.0 = -0.0041  --  -0.0059\n"
     ]
    },
    {
     "name": "stderr",
     "output_type": "stream",
     "text": [
      "episode: 7893/20000  39% ETA:  0:10:48 |||||||||||||||                       | \r"
     ]
    },
    {
     "name": "stdout",
     "output_type": "stream",
     "text": [
      "Ep 7900. Rewards avg 100:   0.0 = -0.0049  --  -0.0051\n"
     ]
    },
    {
     "name": "stderr",
     "output_type": "stream",
     "text": [
      "episode: 7990/20000  39% ETA:  0:10:43 |//////////////                       | \r"
     ]
    },
    {
     "name": "stdout",
     "output_type": "stream",
     "text": [
      "Ep 8000. Rewards avg 100:   0.0 = -0.0056  --  -0.0044\n"
     ]
    },
    {
     "name": "stderr",
     "output_type": "stream",
     "text": [
      "episode: 8101/20000  40% ETA:  0:10:37 |\\\\\\\\\\\\\\\\\\\\\\\\\\\\                       | \r"
     ]
    },
    {
     "name": "stdout",
     "output_type": "stream",
     "text": [
      "Ep 8100. Rewards avg 100:   0.0 = -0.0042  --  -0.0058\n"
     ]
    },
    {
     "name": "stderr",
     "output_type": "stream",
     "text": [
      "episode: 8196/20000  40% ETA:  0:10:32 ||||||||||||||||                      | \r"
     ]
    },
    {
     "name": "stdout",
     "output_type": "stream",
     "text": [
      "Ep 8200. Rewards avg 100:   0.0 = -0.0054  --  -0.0046\n"
     ]
    },
    {
     "name": "stderr",
     "output_type": "stream",
     "text": [
      "episode: 8286/20000  41% ETA:  0:10:27 |///////////////                      | \r"
     ]
    },
    {
     "name": "stdout",
     "output_type": "stream",
     "text": [
      "Ep 8300. Rewards avg 100:   0.0 = -0.0047  --  -0.0053\n"
     ]
    },
    {
     "name": "stderr",
     "output_type": "stream",
     "text": [
      "episode: 8404/20000  42% ETA:  0:10:21 |\\\\\\\\\\\\\\\\\\\\\\\\\\\\\\                      | \r"
     ]
    },
    {
     "name": "stdout",
     "output_type": "stream",
     "text": [
      "Ep 8400. Rewards avg 100:   0.0 = -0.0053  --  -0.0047\n"
     ]
    },
    {
     "name": "stderr",
     "output_type": "stream",
     "text": [
      "episode: 8495/20000  42% ETA:  0:10:16 ||||||||||||||||                      | \r"
     ]
    },
    {
     "name": "stdout",
     "output_type": "stream",
     "text": [
      "Ep 8500. Rewards avg 100:   0.0 = -0.0054  --  -0.0046\n"
     ]
    },
    {
     "name": "stderr",
     "output_type": "stream",
     "text": [
      "episode: 8601/20000  43% ETA:  0:10:11 |---------------                      | \r"
     ]
    },
    {
     "name": "stdout",
     "output_type": "stream",
     "text": [
      "Ep 8600. Rewards avg 100:   0.0 = -0.005  --  -0.005\n"
     ]
    },
    {
     "name": "stderr",
     "output_type": "stream",
     "text": [
      "episode: 8704/20000  43% ETA:  0:10:07 |||||||||||||||||                     | \r"
     ]
    },
    {
     "name": "stdout",
     "output_type": "stream",
     "text": [
      "Ep 8700. Rewards avg 100:   0.0 = -0.0056  --  -0.0044\n"
     ]
    },
    {
     "name": "stderr",
     "output_type": "stream",
     "text": [
      "episode: 8791/20000  43% ETA:  0:10:03 |////////////////                     | \r"
     ]
    },
    {
     "name": "stdout",
     "output_type": "stream",
     "text": [
      "Ep 8800. Rewards avg 100:   0.0 = -0.0051  --  -0.0049\n"
     ]
    },
    {
     "name": "stderr",
     "output_type": "stream",
     "text": [
      "episode: 8894/20000  44% ETA:  0:09:58 |\\\\\\\\\\\\\\\\\\\\\\\\\\\\\\\\                     | \r"
     ]
    },
    {
     "name": "stdout",
     "output_type": "stream",
     "text": [
      "Ep 8900. Rewards avg 100:   0.0 = -0.0045  --  -0.0055\n"
     ]
    },
    {
     "name": "stderr",
     "output_type": "stream",
     "text": [
      "episode: 9002/20000  45% ETA:  0:09:52 |////////////////                     | \r"
     ]
    },
    {
     "name": "stdout",
     "output_type": "stream",
     "text": [
      "Ep 9000. Rewards avg 100:   0.0 = -0.005  --  -0.005\n"
     ]
    },
    {
     "name": "stderr",
     "output_type": "stream",
     "text": [
      "episode: 9087/20000  45% ETA:  0:09:49 |----------------                     | \r"
     ]
    },
    {
     "name": "stdout",
     "output_type": "stream",
     "text": [
      "Ep 9100. Rewards avg 100:   0.0 = -0.0055  --  -0.0045\n"
     ]
    },
    {
     "name": "stderr",
     "output_type": "stream",
     "text": [
      "episode: 9196/20000  45% ETA:  0:09:43 ||||||||||||||||||                    | \r"
     ]
    },
    {
     "name": "stdout",
     "output_type": "stream",
     "text": [
      "Ep 9200. Rewards avg 100:   0.0 = -0.0052  --  -0.0048\n"
     ]
    },
    {
     "name": "stderr",
     "output_type": "stream",
     "text": [
      "episode: 9299/20000  46% ETA:  0:09:38 |-----------------                    | \r"
     ]
    },
    {
     "name": "stdout",
     "output_type": "stream",
     "text": [
      "Ep 9300. Rewards avg 100:   0.0 = -0.005  --  -0.005\n"
     ]
    },
    {
     "name": "stderr",
     "output_type": "stream",
     "text": [
      "episode: 9387/20000  46% ETA:  0:09:34 |\\\\\\\\\\\\\\\\\\\\\\\\\\\\\\\\\\                    | \r"
     ]
    },
    {
     "name": "stdout",
     "output_type": "stream",
     "text": [
      "Ep 9400. Rewards avg 100:   0.0 = -0.0045  --  -0.0055\n"
     ]
    },
    {
     "name": "stderr",
     "output_type": "stream",
     "text": [
      "episode: 9502/20000  47% ETA:  0:09:28 |/////////////////                    | \r"
     ]
    },
    {
     "name": "stdout",
     "output_type": "stream",
     "text": [
      "Ep 9500. Rewards avg 100:   0.0 = -0.0052  --  -0.0048\n"
     ]
    },
    {
     "name": "stderr",
     "output_type": "stream",
     "text": [
      "episode: 9595/20000  47% ETA:  0:09:23 |-----------------                    | \r"
     ]
    },
    {
     "name": "stdout",
     "output_type": "stream",
     "text": [
      "Ep 9600. Rewards avg 100:   0.0 = -0.0041  --  -0.0059\n"
     ]
    },
    {
     "name": "stderr",
     "output_type": "stream",
     "text": [
      "episode: 9699/20000  48% ETA:  0:09:18 ||||||||||||||||||                    | \r"
     ]
    },
    {
     "name": "stdout",
     "output_type": "stream",
     "text": [
      "Ep 9700. Rewards avg 100:   0.0 = -0.0046  --  -0.0054\n"
     ]
    },
    {
     "name": "stderr",
     "output_type": "stream",
     "text": [
      "episode: 9789/20000  48% ETA:  0:09:13 |//////////////////                   | \r"
     ]
    },
    {
     "name": "stdout",
     "output_type": "stream",
     "text": [
      "Ep 9800. Rewards avg 100:   0.0 = -0.0047  --  -0.0053\n"
     ]
    },
    {
     "name": "stderr",
     "output_type": "stream",
     "text": [
      "episode: 9893/20000  49% ETA:  0:09:08 |\\\\\\\\\\\\\\\\\\\\\\\\\\\\\\\\\\\\                   | \r"
     ]
    },
    {
     "name": "stdout",
     "output_type": "stream",
     "text": [
      "Ep 9900. Rewards avg 100:   0.0 = -0.0048  --  -0.0052\n"
     ]
    },
    {
     "name": "stderr",
     "output_type": "stream",
     "text": [
      "episode: 9999/20000  49% ETA:  0:09:03 |//////////////////                   | \r"
     ]
    },
    {
     "name": "stdout",
     "output_type": "stream",
     "text": [
      "Ep 10000. Rewards avg 100:   0.0 = -0.0049  --  -0.0051\n"
     ]
    },
    {
     "name": "stderr",
     "output_type": "stream",
     "text": [
      "episode: 10103/20000  50% ETA:  0:08:57 |\\\\\\\\\\\\\\\\\\\\\\\\\\\\\\\\\\\\                  | \r"
     ]
    },
    {
     "name": "stdout",
     "output_type": "stream",
     "text": [
      "Ep 10100. Rewards avg 100:   0.0 = -0.0049  --  -0.0051\n"
     ]
    },
    {
     "name": "stderr",
     "output_type": "stream",
     "text": [
      "episode: 10194/20000  50% ETA:  0:08:53 |||||||||||||||||||                  | \r"
     ]
    },
    {
     "name": "stdout",
     "output_type": "stream",
     "text": [
      "Ep 10200. Rewards avg 100:   0.0 = -0.0047  --  -0.0053\n"
     ]
    },
    {
     "name": "stderr",
     "output_type": "stream",
     "text": [
      "episode: 10292/20000  51% ETA:  0:08:48 |------------------                  | \r"
     ]
    },
    {
     "name": "stdout",
     "output_type": "stream",
     "text": [
      "Ep 10300. Rewards avg 100:   0.0 = -0.0047  --  -0.0053\n"
     ]
    },
    {
     "name": "stderr",
     "output_type": "stream",
     "text": [
      "episode: 10401/20000  52% ETA:  0:08:42 |||||||||||||||||||                  | \r"
     ]
    },
    {
     "name": "stdout",
     "output_type": "stream",
     "text": [
      "Ep 10400. Rewards avg 100:   0.0 = -0.0056  --  -0.0044\n"
     ]
    },
    {
     "name": "stderr",
     "output_type": "stream",
     "text": [
      "episode: 10504/20000  52% ETA:  0:08:37 |------------------                  | \r"
     ]
    },
    {
     "name": "stdout",
     "output_type": "stream",
     "text": [
      "Ep 10500. Rewards avg 100:   0.0 = -0.0046  --  -0.0054\n"
     ]
    },
    {
     "name": "stderr",
     "output_type": "stream",
     "text": [
      "episode: 10593/20000  52% ETA:  0:08:33 |\\\\\\\\\\\\\\\\\\\\\\\\\\\\\\\\\\\\\\                 | \r"
     ]
    },
    {
     "name": "stdout",
     "output_type": "stream",
     "text": [
      "Ep 10600. Rewards avg 100:   0.0 = -0.005  --  -0.005\n"
     ]
    },
    {
     "name": "stderr",
     "output_type": "stream",
     "text": [
      "episode: 10699/20000  53% ETA:  0:08:27 |///////////////////                 | \r"
     ]
    },
    {
     "name": "stdout",
     "output_type": "stream",
     "text": [
      "Ep 10700. Rewards avg 100:   0.0 = -0.0053  --  -0.0047\n"
     ]
    },
    {
     "name": "stderr",
     "output_type": "stream",
     "text": [
      "episode: 10787/20000  53% ETA:  0:08:23 |-------------------                 | \r"
     ]
    },
    {
     "name": "stdout",
     "output_type": "stream",
     "text": [
      "Ep 10800. Rewards avg 100:   0.0 = -0.0048  --  -0.0052\n"
     ]
    },
    {
     "name": "stderr",
     "output_type": "stream",
     "text": [
      "episode: 10895/20000  54% ETA:  0:08:17 ||||||||||||||||||||                 | \r"
     ]
    },
    {
     "name": "stdout",
     "output_type": "stream",
     "text": [
      "Ep 10900. Rewards avg 100:   0.0 = -0.0045  --  -0.0055\n"
     ]
    },
    {
     "name": "stderr",
     "output_type": "stream",
     "text": [
      "episode: 10997/20000  54% ETA:  0:08:12 |-------------------                 | \r"
     ]
    },
    {
     "name": "stdout",
     "output_type": "stream",
     "text": [
      "Ep 11000. Rewards avg 100:   0.0 = -0.0046  --  -0.0054\n"
     ]
    },
    {
     "name": "stderr",
     "output_type": "stream",
     "text": [
      "episode: 11094/20000  55% ETA:  0:08:07 ||||||||||||||||||||                 | \r"
     ]
    },
    {
     "name": "stdout",
     "output_type": "stream",
     "text": [
      "Ep 11100. Rewards avg 100: 0.011 = 0.0074  --  -0.0064\n"
     ]
    },
    {
     "name": "stderr",
     "output_type": "stream",
     "text": [
      "episode: 11195/20000  55% ETA:  0:08:02 |--------------------                | \r"
     ]
    },
    {
     "name": "stdout",
     "output_type": "stream",
     "text": [
      "Ep 11200. Rewards avg 100: 0.002 = -0.0028  --  -0.0052\n"
     ]
    },
    {
     "name": "stderr",
     "output_type": "stream",
     "text": [
      "episode: 11294/20000  56% ETA:  0:07:58 |||||||||||||||||||||                | \r"
     ]
    },
    {
     "name": "stdout",
     "output_type": "stream",
     "text": [
      "Ep 11300. Rewards avg 100: 0.008 = 0.0032  --  -0.0052\n"
     ]
    },
    {
     "name": "stderr",
     "output_type": "stream",
     "text": [
      "episode: 11403/20000  57% ETA:  0:07:53 |\\\\\\\\\\\\\\\\\\\\\\\\\\\\\\\\\\\\\\\\                | \r"
     ]
    },
    {
     "name": "stdout",
     "output_type": "stream",
     "text": [
      "Ep 11400. Rewards avg 100: 0.009 = 0.0042  --  -0.0053\n"
     ]
    },
    {
     "name": "stderr",
     "output_type": "stream",
     "text": [
      "episode: 11493/20000  57% ETA:  0:07:49 |////////////////////                | \r"
     ]
    },
    {
     "name": "stdout",
     "output_type": "stream",
     "text": [
      "Ep 11500. Rewards avg 100: 0.002 = -0.0023  --  -0.0057\n"
     ]
    },
    {
     "name": "stderr",
     "output_type": "stream",
     "text": [
      "episode: 11596/20000  57% ETA:  0:07:43 |\\\\\\\\\\\\\\\\\\\\\\\\\\\\\\\\\\\\\\\\                | \r"
     ]
    },
    {
     "name": "stdout",
     "output_type": "stream",
     "text": [
      "Ep 11600. Rewards avg 100: 0.005 = 0.0002  --  -0.0052\n"
     ]
    },
    {
     "name": "stderr",
     "output_type": "stream",
     "text": [
      "episode: 11696/20000  58% ETA:  0:07:39 |---------------------               | \r"
     ]
    },
    {
     "name": "stdout",
     "output_type": "stream",
     "text": [
      "Ep 11700. Rewards avg 100: 0.024 = 0.021  --  -0.0072\n"
     ]
    },
    {
     "name": "stderr",
     "output_type": "stream",
     "text": [
      "episode: 11792/20000  58% ETA:  0:07:34 ||||||||||||||||||||||               | \r"
     ]
    },
    {
     "name": "stdout",
     "output_type": "stream",
     "text": [
      "Ep 11800. Rewards avg 100: 0.012 = 0.0083  --  -0.0063\n"
     ]
    },
    {
     "name": "stderr",
     "output_type": "stream",
     "text": [
      "episode: 11900/20000  59% ETA:  0:07:29 |\\\\\\\\\\\\\\\\\\\\\\\\\\\\\\\\\\\\\\\\\\               | \r"
     ]
    },
    {
     "name": "stdout",
     "output_type": "stream",
     "text": [
      "Ep 11900. Rewards avg 100: 0.003 = -0.0013  --  -0.0057\n"
     ]
    },
    {
     "name": "stderr",
     "output_type": "stream",
     "text": [
      "episode: 11998/20000  59% ETA:  0:07:24 |/////////////////////               | \r"
     ]
    },
    {
     "name": "stdout",
     "output_type": "stream",
     "text": [
      "Ep 12000. Rewards avg 100:   0.0 = -0.004  --  -0.006\n"
     ]
    },
    {
     "name": "stderr",
     "output_type": "stream",
     "text": [
      "episode: 12104/20000  60% ETA:  0:07:19 |\\\\\\\\\\\\\\\\\\\\\\\\\\\\\\\\\\\\\\\\\\               | \r"
     ]
    },
    {
     "name": "stdout",
     "output_type": "stream",
     "text": [
      "Ep 12100. Rewards avg 100:   0.0 = -0.0057  --  -0.0043\n"
     ]
    },
    {
     "name": "stderr",
     "output_type": "stream",
     "text": [
      "episode: 12192/20000  60% ETA:  0:07:14 ||||||||||||||||||||||               | \r"
     ]
    },
    {
     "name": "stdout",
     "output_type": "stream",
     "text": [
      "Ep 12200. Rewards avg 100:   0.0 = -0.0051  --  -0.0049\n"
     ]
    },
    {
     "name": "stderr",
     "output_type": "stream",
     "text": [
      "episode: 12293/20000  61% ETA:  0:07:09 |----------------------              | \r"
     ]
    },
    {
     "name": "stdout",
     "output_type": "stream",
     "text": [
      "Ep 12300. Rewards avg 100:   0.0 = -0.0042  --  -0.0058\n"
     ]
    },
    {
     "name": "stderr",
     "output_type": "stream",
     "text": [
      "episode: 12398/20000  61% ETA:  0:07:03 |||||||||||||||||||||||              | \r"
     ]
    },
    {
     "name": "stdout",
     "output_type": "stream",
     "text": [
      "Ep 12400. Rewards avg 100:   0.0 = -0.0046  --  -0.0054\n"
     ]
    },
    {
     "name": "stderr",
     "output_type": "stream",
     "text": [
      "episode: 12500/20000  62% ETA:  0:06:58 |----------------------              | \r"
     ]
    },
    {
     "name": "stdout",
     "output_type": "stream",
     "text": [
      "Ep 12500. Rewards avg 100:   0.0 = -0.0048  --  -0.0052\n"
     ]
    },
    {
     "name": "stderr",
     "output_type": "stream",
     "text": [
      "episode: 12587/20000  62% ETA:  0:06:53 |\\\\\\\\\\\\\\\\\\\\\\\\\\\\\\\\\\\\\\\\\\\\              | \r"
     ]
    },
    {
     "name": "stdout",
     "output_type": "stream",
     "text": [
      "Ep 12600. Rewards avg 100:   0.0 = -0.0053  --  -0.0047\n"
     ]
    },
    {
     "name": "stderr",
     "output_type": "stream",
     "text": [
      "episode: 12694/20000  63% ETA:  0:06:47 |//////////////////////              | \r"
     ]
    },
    {
     "name": "stdout",
     "output_type": "stream",
     "text": [
      "Ep 12700. Rewards avg 100:   0.0 = -0.0049  --  -0.0051\n"
     ]
    },
    {
     "name": "stderr",
     "output_type": "stream",
     "text": [
      "episode: 12797/20000  63% ETA:  0:06:42 |\\\\\\\\\\\\\\\\\\\\\\\\\\\\\\\\\\\\\\\\\\\\\\             | \r"
     ]
    },
    {
     "name": "stdout",
     "output_type": "stream",
     "text": [
      "Ep 12800. Rewards avg 100:   0.0 = -0.0048  --  -0.0052\n"
     ]
    },
    {
     "name": "stderr",
     "output_type": "stream",
     "text": [
      "episode: 12896/20000  64% ETA:  0:06:36 |///////////////////////             | \r"
     ]
    },
    {
     "name": "stdout",
     "output_type": "stream",
     "text": [
      "Ep 12900. Rewards avg 100:   0.0 = -0.0055  --  -0.0045\n"
     ]
    },
    {
     "name": "stderr",
     "output_type": "stream",
     "text": [
      "episode: 13002/20000  65% ETA:  0:06:31 |\\\\\\\\\\\\\\\\\\\\\\\\\\\\\\\\\\\\\\\\\\\\\\             | \r"
     ]
    },
    {
     "name": "stdout",
     "output_type": "stream",
     "text": [
      "Ep 13000. Rewards avg 100:   0.0 = -0.0044  --  -0.0056\n"
     ]
    },
    {
     "name": "stderr",
     "output_type": "stream",
     "text": [
      "episode: 13090/20000  65% ETA:  0:06:26 ||||||||||||||||||||||||             | \r"
     ]
    },
    {
     "name": "stdout",
     "output_type": "stream",
     "text": [
      "Ep 13100. Rewards avg 100:   0.0 = -0.0052  --  -0.0048\n"
     ]
    },
    {
     "name": "stderr",
     "output_type": "stream",
     "text": [
      "episode: 13192/20000  65% ETA:  0:06:20 |-----------------------             | \r"
     ]
    },
    {
     "name": "stdout",
     "output_type": "stream",
     "text": [
      "Ep 13200. Rewards avg 100:   0.0 = -0.0045  --  -0.0055\n"
     ]
    },
    {
     "name": "stderr",
     "output_type": "stream",
     "text": [
      "episode: 13295/20000  66% ETA:  0:06:15 ||||||||||||||||||||||||             | \r"
     ]
    },
    {
     "name": "stdout",
     "output_type": "stream",
     "text": [
      "Ep 13300. Rewards avg 100:   0.0 = -0.0049  --  -0.0051\n"
     ]
    },
    {
     "name": "stderr",
     "output_type": "stream",
     "text": [
      "episode: 13399/20000  66% ETA:  0:06:09 |------------------------            | \r"
     ]
    },
    {
     "name": "stdout",
     "output_type": "stream",
     "text": [
      "Ep 13400. Rewards avg 100:   0.0 = -0.0046  --  -0.0054\n"
     ]
    },
    {
     "name": "stderr",
     "output_type": "stream",
     "text": [
      "episode: 13488/20000  67% ETA:  0:06:04 |\\\\\\\\\\\\\\\\\\\\\\\\\\\\\\\\\\\\\\\\\\\\\\\\            | \r"
     ]
    },
    {
     "name": "stdout",
     "output_type": "stream",
     "text": [
      "Ep 13500. Rewards avg 100:   0.0 = -0.0051  --  -0.0049\n"
     ]
    },
    {
     "name": "stderr",
     "output_type": "stream",
     "text": [
      "episode: 13592/20000  67% ETA:  0:05:59 |////////////////////////            | \r"
     ]
    },
    {
     "name": "stdout",
     "output_type": "stream",
     "text": [
      "Ep 13600. Rewards avg 100:   0.0 = -0.0053  --  -0.0047\n"
     ]
    },
    {
     "name": "stderr",
     "output_type": "stream",
     "text": [
      "episode: 13695/20000  68% ETA:  0:05:53 |\\\\\\\\\\\\\\\\\\\\\\\\\\\\\\\\\\\\\\\\\\\\\\\\            | \r"
     ]
    },
    {
     "name": "stdout",
     "output_type": "stream",
     "text": [
      "Ep 13700. Rewards avg 100:   0.0 = -0.0052  --  -0.0048\n"
     ]
    },
    {
     "name": "stderr",
     "output_type": "stream",
     "text": [
      "episode: 13798/20000  68% ETA:  0:05:47 |////////////////////////            | \r"
     ]
    },
    {
     "name": "stdout",
     "output_type": "stream",
     "text": [
      "Ep 13800. Rewards avg 100:   0.0 = -0.0045  --  -0.0055\n"
     ]
    },
    {
     "name": "stderr",
     "output_type": "stream",
     "text": [
      "episode: 13898/20000  69% ETA:  0:05:42 |\\\\\\\\\\\\\\\\\\\\\\\\\\\\\\\\\\\\\\\\\\\\\\\\\\           | \r"
     ]
    },
    {
     "name": "stdout",
     "output_type": "stream",
     "text": [
      "Ep 13900. Rewards avg 100: 0.001 = -0.0034  --  -0.0056\n"
     ]
    },
    {
     "name": "stderr",
     "output_type": "stream",
     "text": [
      "episode: 13988/20000  69% ETA:  0:05:37 ||||||||||||||||||||||||||           | \r"
     ]
    },
    {
     "name": "stdout",
     "output_type": "stream",
     "text": [
      "Ep 14000. Rewards avg 100:   0.0 = -0.0059  --  -0.0041\n"
     ]
    },
    {
     "name": "stderr",
     "output_type": "stream",
     "text": [
      "episode: 14090/20000  70% ETA:  0:05:32 |-------------------------           | \r"
     ]
    },
    {
     "name": "stdout",
     "output_type": "stream",
     "text": [
      "Ep 14100. Rewards avg 100:   0.0 = -0.0045  --  -0.0055\n"
     ]
    },
    {
     "name": "stderr",
     "output_type": "stream",
     "text": [
      "episode: 14196/20000  70% ETA:  0:05:26 ||||||||||||||||||||||||||           | \r"
     ]
    },
    {
     "name": "stdout",
     "output_type": "stream",
     "text": [
      "Ep 14200. Rewards avg 100:   0.0 = -0.0057  --  -0.0043\n"
     ]
    },
    {
     "name": "stderr",
     "output_type": "stream",
     "text": [
      "episode: 14294/20000  71% ETA:  0:05:20 |-------------------------           | \r"
     ]
    },
    {
     "name": "stdout",
     "output_type": "stream",
     "text": [
      "Ep 14300. Rewards avg 100:   0.0 = -0.0056  --  -0.0044\n"
     ]
    },
    {
     "name": "stderr",
     "output_type": "stream",
     "text": [
      "episode: 14396/20000  71% ETA:  0:05:15 ||||||||||||||||||||||||||           | \r"
     ]
    },
    {
     "name": "stdout",
     "output_type": "stream",
     "text": [
      "Ep 14400. Rewards avg 100:   0.0 = -0.0053  --  -0.0047\n"
     ]
    },
    {
     "name": "stderr",
     "output_type": "stream",
     "text": [
      "episode: 14494/20000  72% ETA:  0:05:10 |--------------------------          | \r"
     ]
    },
    {
     "name": "stdout",
     "output_type": "stream",
     "text": [
      "Ep 14500. Rewards avg 100: 0.005 = 0.0004  --  -0.0054\n"
     ]
    },
    {
     "name": "stderr",
     "output_type": "stream",
     "text": [
      "episode: 14591/20000  72% ETA:  0:05:04 |||||||||||||||||||||||||||          | \r"
     ]
    },
    {
     "name": "stdout",
     "output_type": "stream",
     "text": [
      "Ep 14600. Rewards avg 100: 0.008 = 0.003  --  -0.005\n"
     ]
    },
    {
     "name": "stderr",
     "output_type": "stream",
     "text": [
      "episode: 14689/20000  73% ETA:  0:04:59 |--------------------------          | \r"
     ]
    },
    {
     "name": "stdout",
     "output_type": "stream",
     "text": [
      "Ep 14700. Rewards avg 100:   0.0 = -0.0055  --  -0.0045\n"
     ]
    },
    {
     "name": "stderr",
     "output_type": "stream",
     "text": [
      "episode: 14801/20000  74% ETA:  0:04:53 |//////////////////////////          | \r"
     ]
    },
    {
     "name": "stdout",
     "output_type": "stream",
     "text": [
      "Ep 14800. Rewards avg 100: 0.009 = 0.0053  --  -0.0063\n"
     ]
    },
    {
     "name": "stderr",
     "output_type": "stream",
     "text": [
      "episode: 14817/20000  74% ETA:  0:04:52 |--------------------------          | \r"
     ]
    }
   ],
   "source": [
    "# training loop\n",
    "# show progressbar\n",
    "widget = ['episode: ', pb.Counter(),'/',str(number_of_episodes),' ', \n",
    "          pb.Percentage(), ' ', pb.ETA(), ' ', pb.Bar(marker=pb.RotatingMarker()), ' ' ]\n",
    "\n",
    "timer = pb.ProgressBar(widgets=widget, maxval=number_of_episodes).start()\n",
    "\n",
    "# use keep_awake to keep workspace from disconnecting\n",
    "reward_this_episode = np.zeros(num_agents)\n",
    "iteration = 0\n",
    "\n",
    "for episode in range(number_of_episodes):\n",
    "\n",
    "    timer.update(episode)\n",
    "    state = task.reset()\n",
    "    reward_this_episode[:] = 0\n",
    "\n",
    "    for frame_idx in range(max_episode_length):\n",
    "        iteration += 1\n",
    "\n",
    "        actions = maddpg.act(state, noise=noise)\n",
    "        noise *= noise_reduction\n",
    "\n",
    "        actions_array = torch.stack(actions).detach().cpu().numpy().astype(np.float32)\n",
    "\n",
    "        # step forward one frame\n",
    "        next_state, rewards, dones, info = task.step(actions_array)\n",
    "\n",
    "        # add data to buffer\n",
    "        buffer.add(state, actions_array, rewards, next_state, dones)\n",
    "\n",
    "        reward_this_episode += rewards\n",
    "        \n",
    "        state = next_state\n",
    "        iter_per_eposide[episode] += 1\n",
    "        \n",
    "        if any(dones):\n",
    "            break\n",
    "\n",
    "    # update once after every episode_per_update\n",
    "    if len(buffer) > batch_size and iteration > warm_up_period:\n",
    "        for agent_number in range(num_agents):\n",
    "            samples = buffer.sample()\n",
    "            maddpg.update(samples, agent_number)\n",
    "        maddpg.update_targets() #soft update the target network towards the actual networks\n",
    "\n",
    "    all_rewards[episode] = reward_this_episode\n",
    "\n",
    "    if (episode+1) % episode_score_every == 1 or episode == number_of_episodes-1:\n",
    "        _r = all_rewards[max(episode-100, 0):episode, :]\n",
    "        print(f'Ep {episode:4}. Rewards avg 100: {np.max(_r, axis=1).mean():5.2} = {_r[:, 0].mean():5.2}  --  {_r[:, 1].mean():5.2}')\n",
    "        \n",
    "    #if episode > 400 and abs(np.max(all_rewards, axis=1)[-400:].mean()) < 0.00000001:\n",
    "    #    print(\"Breaking. No use.\")\n",
    "    #    break\n",
    "\n",
    "        #saving model\n",
    "    if ((episode+1) % save_interval == 0):\n",
    "        save_dict_list = []\n",
    "        for agent_i in range(agents_number):\n",
    "            save_dict = {\n",
    "                'actor_params' : maddpg.maddpg_agent[agent_i].actor.state_dict(),\n",
    "                'actor_optim_params': maddpg.maddpg_agent[agent_i].actor_optimizer.state_dict(),\n",
    "                'critic_params' : maddpg.maddpg_agent[agent_i].critic.state_dict(),\n",
    "                'critic_optim_params' : maddpg.maddpg_agent[agent_i].critic_optimizer.state_dict()\n",
    "            }\n",
    "            save_dict_list.append(save_dict)\n",
    "\n",
    "        torch.save(save_dict_list, os.path.join(model_dir, 'episode-{}.pt'.format(episode)))\n",
    "\n",
    "timer.finish()\n"
   ]
  },
  {
   "cell_type": "code",
   "execution_count": 45,
   "metadata": {},
   "outputs": [
    {
     "data": {
      "text/plain": [
       "<matplotlib.legend.Legend at 0x7f13b85c0160>"
      ]
     },
     "execution_count": 45,
     "metadata": {},
     "output_type": "execute_result"
    },
    {
     "data": {
      "image/png": "[encoded data removed]",
      "text/plain": [
       "<Figure size 864x576 with 1 Axes>"
      ]
     },
     "metadata": {
      "needs_background": "light"
     },
     "output_type": "display_data"
    }
   ],
   "source": [
    "plt.figure(figsize=(12,8))\n",
    "all_rewards_total = np.sum(all_rewards, axis=1)\n",
    "plt.plot(all_rewards, '--', alpha=0.5)\n",
    "plt.plot(all_rewards_total, alpha=0.5)\n",
    "plt.plot(moving_average(all_rewards_total, 20), label='20')\n",
    "plt.plot(moving_average(all_rewards_total), label='100')\n",
    "plt.legend()"
   ]
  },
  {
   "cell_type": "code",
   "execution_count": 46,
   "metadata": {},
   "outputs": [
    {
     "data": {
      "text/plain": [
       "(0.0, 126.48)"
      ]
     },
     "execution_count": 46,
     "metadata": {},
     "output_type": "execute_result"
    },
    {
     "data": {
      "image/png": "[encoded data removed]",
      "text/plain": [
       "<Figure size 864x576 with 1 Axes>"
      ]
     },
     "metadata": {
      "needs_background": "light"
     },
     "output_type": "display_data"
    }
   ],
   "source": [
    "plt.figure(figsize=(12,8))\n",
    "plt.plot(iter_per_eposide)\n",
    "#plt.plot(np.cumsum(iter_per_eposide))\n",
    "plt.title(f'Average {iter_per_eposide.mean()} iterations per episode')\n",
    "plt.ylim((0, max(iter_per_eposide)*1.02))"
   ]
  },
  {
   "cell_type": "code",
   "execution_count": 67,
   "metadata": {},
   "outputs": [
    {
     "name": "stdout",
     "output_type": "stream",
     "text": [
      "state: torch.Size([128, 2, 24])\n",
      "actions: torch.Size([128, 2, 2])\n"
     ]
    }
   ],
   "source": [
    "states = out[0]\n",
    "actions = out[1]\n",
    "print(f\"state: {states.shape}\")\n",
    "print(f\"actions: {actions.shape}\")"
   ]
  },
  {
   "cell_type": "code",
   "execution_count": 60,
   "metadata": {},
   "outputs": [],
   "source": [
    "device = torch.device('cuda')"
   ]
  },
  {
   "cell_type": "code",
   "execution_count": 81,
   "metadata": {},
   "outputs": [
    {
     "name": "stdout",
     "output_type": "stream",
     "text": [
      "4.11 ms ± 35.1 µs per loop (mean ± std. dev. of 7 runs, 100 loops each)\n"
     ]
    }
   ],
   "source": [
    "%%timeit\n",
    "state, action, reward, next_state, done = samples\n",
    "reward = maddpg.reward_normalizer(reward)\n",
    "\n",
    "agent = maddpg.maddpg_agent[agent_number]\n",
    "agent.critic_optimizer.zero_grad()\n",
    "\n",
    "#critic loss = batch mean of (y- Q(s,a) from target network)^2\n",
    "#y = reward of this timestep + discount * Q(st+1,at+1) from target network\n",
    "target_actions = maddpg.target_act(next_state)\n",
    "target_actions = torch.cat(target_actions, dim=1).view(-1, len(maddpg.maddpg_agent), maddpg.action_dim)\n",
    "\n",
    "# target_critic_input = torch.cat((state, target_actions), dim=2).to(device)\n",
    "agent_state = state.select(1, agent_number)\n",
    "agent_action = action.select(1, agent_number)\n",
    "agent_target_actions = target_actions.select(1, agent_number)\n",
    "\n",
    "# Make sure this works\n",
    "with torch.no_grad():\n",
    "    q_next = agent.target_critic(agent_state, agent_target_actions)\n",
    "\n",
    "y = reward[:,agent_number].view(-1, 1) + maddpg.discount * q_next * (1 - done[:, agent_number]).view(-1, 1)\n",
    "\n",
    "\n",
    "# TODO: Make sure this works  -- All state and all actions\n",
    "q = agent.critic(agent_state, agent_action)\n",
    "\n",
    "\n",
    "huber_loss = torch.nn.SmoothL1Loss()\n",
    "critic_loss = huber_loss(q, y.detach())\n",
    "critic_loss.backward()\n",
    "#torch.nn.utils.clip_grad_norm_(agent.critic.parameters(), 0.5)\n",
    "agent.critic_optimizer.step()\n",
    "\n",
    "#update actor network using policy gradient\n",
    "agent.actor_optimizer.zero_grad()\n",
    "# make input to agent\n",
    "# detach the other agents to save computation\n",
    "# saves some time for computing derivative\n",
    "q_input = [ agent.actor(state.select(1, num)) if num == agent_number \\\n",
    "           else agent.actor(state.select(1, num)).detach()\n",
    "           for num, agent in enumerate(maddpg.maddpg_agent)]\n",
    "\n",
    "q_input = torch.cat(q_input, dim=1).view(-1, maddpg.agents_number, maddpg.action_dim)\n",
    "# combine all the actions and states for input to critic\n",
    "# many of the states are redundant, and state[1] contains all useful information already\n",
    "#q_input2 = torch.cat((state, q_input), dim=2)\n",
    "\n",
    "# get the policy gradient\n",
    "actor_loss = -agent.critic(state, q_input).mean()\n",
    "actor_loss.backward()\n",
    "#torch.nn.utils.clip_grad_norm_(agent.actor.parameters(),0.5)\n",
    "agent.actor_optimizer.step()\n",
    "# al = actor_loss.cpu().detach().item()\n",
    "# cl = critic_loss.cpu().detach().item()\n",
    "# self.logger.info(f'{self.iter}  | agent{agent_number}/losses  | critic loss: {cl}  | actor_loss: {al}')"
   ]
  },
  {
   "cell_type": "markdown",
   "metadata": {},
   "source": [
    "4.44 ms ± 76 µs per loop (mean ± std. dev. of 7 runs, 100 loops each)"
   ]
  },
  {
   "cell_type": "code",
   "execution_count": 44,
   "metadata": {},
   "outputs": [
    {
     "data": {
      "text/plain": [
       "CriticBody(\n",
       "  (layers): ModuleList(\n",
       "    (0): Linear(in_features=24, out_features=128, bias=True)\n",
       "    (1): Linear(in_features=130, out_features=128, bias=True)\n",
       "    (2): Linear(in_features=128, out_features=1, bias=True)\n",
       "  )\n",
       ")"
      ]
     },
     "execution_count": 44,
     "metadata": {},
     "output_type": "execute_result"
    }
   ],
   "source": [
    "agent.critic"
   ]
  },
  {
   "cell_type": "code",
   "execution_count": 47,
   "metadata": {},
   "outputs": [
    {
     "name": "stdout",
     "output_type": "stream",
     "text": [
      "state.shape: torch.Size([128, 2, 24])\n",
      "q_input.shape: torch.Size([128, 2, 2])\n",
      "q_input2.shape: torch.Size([128, 2, 26])\n",
      "action.shape: torch.Size([128, 2, 2])\n"
     ]
    }
   ],
   "source": [
    "print(f\"state.shape: {state.shape}\")\n",
    "print(f\"q_input.shape: {q_input.shape}\")\n",
    "print(f\"q_input2.shape: {q_input2.shape}\")\n",
    "print(f\"action.shape: {action.shape}\")"
   ]
  },
  {
   "cell_type": "code",
   "execution_count": null,
   "metadata": {},
   "outputs": [],
   "source": [
    "# No need to flip since there are no paralle agents\n",
    "obs, action, reward, next_obs, done = transpose_list(samples)\n",
    "reward = np.array(reward)\n",
    "done = np.array(done)\n",
    "\n",
    "# obs_full = torch.stack(obs_full)\n",
    "# next_obs_full = torch.stack(next_obs_full)\n",
    "\n",
    "agent = maddpg.maddpg_agent[agent_number]\n",
    "agent.critic_optimizer.zero_grad()\n",
    "\n",
    "#critic loss = batch mean of (y- Q(s,a) from target network)^2\n",
    "#y = reward of this timestep + discount * Q(st+1,at+1) from target network\n",
    "target_actions_org = maddpg.target_act(next_obs)\n",
    "target_actions = torch.cat(target_actions_org, dim=1)\n",
    "target_actions = target_actions.view(-1,2,2)\n",
    "\n",
    "target_critic_input = torch.cat((tensor(obs), target_actions), dim=2).to(\"cpu\")\n",
    "\n",
    "with torch.no_grad():\n",
    "    q_next = agent.target_critic(target_critic_input).select(1, agent_number)\n",
    "\n",
    "y = tensor(reward[:,agent_number]).view(-1,1) + maddpg.discount_factor * q_next * tensor(1 - done[:,agent_number]).view(-1,1)\n",
    "\n",
    "action = tensor(action) #torch.cat(action, dim=0)\n",
    "critic_input = torch.cat((tensor(obs), action), dim=2).to(\"cpu\")\n",
    "q = agent.critic(critic_input).select(1, agent_number).double()\n",
    "\n",
    "huber_loss = torch.nn.SmoothL1Loss()\n",
    "critic_loss = huber_loss(q, y.detach()).float()\n",
    "critic_loss.backward()\n",
    "#torch.nn.utils.clip_grad_norm_(agent.critic.parameters(), 0.5)\n",
    "agent.critic_optimizer.step()\n",
    "\n",
    "#update actor network using policy gradient\n",
    "agent.actor_optimizer.zero_grad()\n",
    "# make input to agent\n",
    "# detach the other agents to save computation\n",
    "# saves some time for computing derivative\n",
    "q_input = [ maddpg.maddpg_agent[num].actor(tensor(obs).select(1, num)) if num == agent_number \\\n",
    "           else maddpg.maddpg_agent[num].actor(tensor(obs).select(1, num)).detach()\n",
    "           for num in range(agents_number) ]\n",
    "\n",
    "q_input = torch.cat(q_input, dim=1).view(-1, agents_number, action_dim)\n",
    "# combine all the actions and observations for input to critic\n",
    "# many of the obs are redundant, and obs[1] contains all useful information already\n",
    "q_input2 = torch.cat((tensor(obs), q_input), dim=2)\n",
    "\n",
    "# get the policy gradient\n",
    "actor_loss = -agent.critic(q_input2).mean()\n",
    "actor_loss.backward()\n",
    "#torch.nn.utils.clip_grad_norm_(agent.actor.parameters(),0.5)\n",
    "agent.actor_optimizer.step()\n",
    "\n",
    "al = actor_loss.cpu().detach().item()\n",
    "cl = critic_loss.cpu().detach().item()"
   ]
  },
  {
   "cell_type": "code",
   "execution_count": null,
   "metadata": {},
   "outputs": [],
   "source": [
    "maddpg.maddpg_agent.act(obs)"
   ]
  },
  {
   "cell_type": "code",
   "execution_count": null,
   "metadata": {},
   "outputs": [],
   "source": [
    "q_input = [ maddpg.maddpg_agent[num].actor(tensor(obs).select(1, num)) if num == agent_number \\\n",
    "           else maddpg.maddpg_agent[num].actor(tensor(obs).select(1, num)).detach()\n",
    "           for num in range(agents_number) ]\n"
   ]
  },
  {
   "cell_type": "code",
   "execution_count": null,
   "metadata": {},
   "outputs": [],
   "source": [
    "_q_input = torch.cat(q_input, dim=1).view(-1, agents_number, action_dim)"
   ]
  },
  {
   "cell_type": "code",
   "execution_count": null,
   "metadata": {},
   "outputs": [],
   "source": [
    "tensor(obs).shape; _q_input.shape"
   ]
  },
  {
   "cell_type": "code",
   "execution_count": null,
   "metadata": {},
   "outputs": [],
   "source": [
    "q_input2 = torch.cat((tensor(obs), _q_input), dim=2)"
   ]
  },
  {
   "cell_type": "code",
   "execution_count": null,
   "metadata": {},
   "outputs": [],
   "source": [
    "tensor(obs).shape"
   ]
  },
  {
   "cell_type": "code",
   "execution_count": null,
   "metadata": {},
   "outputs": [],
   "source": [
    "tensor(obs).select(1, 1).shape"
   ]
  },
  {
   "cell_type": "code",
   "execution_count": null,
   "metadata": {},
   "outputs": [],
   "source": [
    "tensor(obs[0])"
   ]
  },
  {
   "cell_type": "code",
   "execution_count": null,
   "metadata": {},
   "outputs": [],
   "source": [
    "def target_act(obs_all_agents, noise=0.0):\n",
    "    \"\"\"get target network actions from all the agents in the MADDPG object \"\"\"\n",
    "    target_actions = [ddpg_agent.target_act(tensor(obs), noise) for ddpg_agent, obs in zip(maddpg.maddpg_agent, obs_all_agents)]\n",
    "    return target_actions"
   ]
  },
  {
   "cell_type": "code",
   "execution_count": null,
   "metadata": {},
   "outputs": [],
   "source": [
    "target_actions = maddpg.target_act(next_obs)"
   ]
  },
  {
   "cell_type": "code",
   "execution_count": null,
   "metadata": {},
   "outputs": [],
   "source": [
    "print(f\"obs:  {len(obs)}  |  {obs[0].shape}  |  {type(obs[0])}\")\n",
    "print(f\"next_obs:  {len(next_obs)}  |  {next_obs[0].shape}  |  {type(next_obs[0])}\")"
   ]
  },
  {
   "cell_type": "code",
   "execution_count": null,
   "metadata": {},
   "outputs": [],
   "source": [
    "from torch import tensor"
   ]
  },
  {
   "cell_type": "code",
   "execution_count": null,
   "metadata": {},
   "outputs": [],
   "source": [
    "target_actions = maddpg.target_act(next_obs[0])"
   ]
  },
  {
   "cell_type": "code",
   "execution_count": null,
   "metadata": {},
   "outputs": [],
   "source": [
    "target_actions"
   ]
  },
  {
   "cell_type": "code",
   "execution_count": null,
   "metadata": {},
   "outputs": [],
   "source": [
    "torch.cat((torch.tensor(obs), target_actions), dim=1)"
   ]
  }
 ],
 "metadata": {
  "kernelspec": {
   "display_name": "Python 3",
   "language": "python",
   "name": "python3"
  },
  "language_info": {
   "codemirror_mode": {
    "name": "ipython",
    "version": 3
   },
   "file_extension": ".py",
   "mimetype": "text/x-python",
   "name": "python",
   "nbconvert_exporter": "python",
   "pygments_lexer": "ipython3",
   "version": "3.8.2"
  }
 },
 "nbformat": 4,
 "nbformat_minor": 2
}
