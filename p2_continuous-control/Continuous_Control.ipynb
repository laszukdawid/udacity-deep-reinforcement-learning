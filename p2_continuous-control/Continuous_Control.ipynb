{
 "cells": [
  {
   "cell_type": "markdown",
   "metadata": {},
   "source": [
    "# Continuous Control\n",
    "\n",
    "---\n",
    "\n",
    "In this notebook, you will learn how to use the Unity ML-Agents environment for the second project of the [Deep Reinforcement Learning Nanodegree](https://www.udacity.com/course/deep-reinforcement-learning-nanodegree--nd893) program.\n",
    "\n",
    "### 1. Start the Environment\n",
    "\n",
    "We begin by importing the necessary packages.  If the code cell below returns an error, please revisit the project instructions to double-check that you have installed [Unity ML-Agents](https://github.com/Unity-Technologies/ml-agents/blob/master/docs/Installation.md) and [NumPy](http://www.numpy.org/)."
   ]
  },
  {
   "cell_type": "code",
   "execution_count": 1,
   "metadata": {},
   "outputs": [],
   "source": [
    "%load_ext autoreload"
   ]
  },
  {
   "cell_type": "code",
   "execution_count": 2,
   "metadata": {},
   "outputs": [],
   "source": [
    "%autoreload 2"
   ]
  },
  {
   "cell_type": "code",
   "execution_count": 3,
   "metadata": {},
   "outputs": [],
   "source": [
    "from unityagents import UnityEnvironment\n",
    "import numpy as np\n",
    "import pylab as plt\n",
    "import torch"
   ]
  },
  {
   "cell_type": "markdown",
   "metadata": {},
   "source": [
    "Next, we will start the environment!  **_Before running the code cell below_**, change the `file_name` parameter to match the location of the Unity environment that you downloaded.\n",
    "\n",
    "- **Mac**: `\"path/to/Reacher.app\"`\n",
    "- **Windows** (x86): `\"path/to/Reacher_Windows_x86/Reacher.exe\"`\n",
    "- **Windows** (x86_64): `\"path/to/Reacher_Windows_x86_64/Reacher.exe\"`\n",
    "- **Linux** (x86): `\"path/to/Reacher_Linux/Reacher.x86\"`\n",
    "- **Linux** (x86_64): `\"path/to/Reacher_Linux/Reacher.x86_64\"`\n",
    "- **Linux** (x86, headless): `\"path/to/Reacher_Linux_NoVis/Reacher.x86\"`\n",
    "- **Linux** (x86_64, headless): `\"path/to/Reacher_Linux_NoVis/Reacher.x86_64\"`\n",
    "\n",
    "For instance, if you are using a Mac, then you downloaded `Reacher.app`.  If this file is in the same folder as the notebook, then the line below should appear as follows:\n",
    "```\n",
    "env = UnityEnvironment(file_name=\"Reacher.app\")\n",
    "```"
   ]
  },
  {
   "cell_type": "code",
   "execution_count": 4,
   "metadata": {},
   "outputs": [
    {
     "name": "stderr",
     "output_type": "stream",
     "text": [
      "INFO:unityagents:\n",
      "'Academy' started successfully!\n",
      "Unity Academy name: Academy\n",
      "        Number of Brains: 1\n",
      "        Number of External Brains : 1\n",
      "        Lesson number : 0\n",
      "        Reset Parameters :\n",
      "\t\tgoal_size -> 5.0\n",
      "\t\tgoal_speed -> 1.0\n",
      "Unity brain name: ReacherBrain\n",
      "        Number of Visual Observations (per agent): 0\n",
      "        Vector Observation space type: continuous\n",
      "        Vector Observation space size (per agent): 33\n",
      "        Number of stacked Vector Observation: 1\n",
      "        Vector Action space type: continuous\n",
      "        Vector Action space size (per agent): 4\n",
      "        Vector Action descriptions: , , , \n"
     ]
    }
   ],
   "source": [
    "env = UnityEnvironment(file_name='Reacher_Linux/Reacher.x86_64')"
   ]
  },
  {
   "cell_type": "markdown",
   "metadata": {},
   "source": [
    "Environments contain **_brains_** which are responsible for deciding the actions of their associated agents. Here we check for the first brain available, and set it as the default brain we will be controlling from Python."
   ]
  },
  {
   "cell_type": "code",
   "execution_count": 5,
   "metadata": {},
   "outputs": [],
   "source": [
    "# get the default brain\n",
    "brain_name = env.brain_names[0]\n",
    "brain = env.brains[brain_name]"
   ]
  },
  {
   "cell_type": "markdown",
   "metadata": {},
   "source": [
    "### 2. Examine the State and Action Spaces\n",
    "\n",
    "In this environment, a double-jointed arm can move to target locations. A reward of `+0.1` is provided for each step that the agent's hand is in the goal location. Thus, the goal of your agent is to maintain its position at the target location for as many time steps as possible.\n",
    "\n",
    "The observation space consists of `33` variables corresponding to position, rotation, velocity, and angular velocities of the arm.  Each action is a vector with four numbers, corresponding to torque applicable to two joints.  Every entry in the action vector must be a number between `-1` and `1`.\n",
    "\n",
    "Run the code cell below to print some information about the environment."
   ]
  },
  {
   "cell_type": "code",
   "execution_count": 6,
   "metadata": {},
   "outputs": [
    {
     "name": "stdout",
     "output_type": "stream",
     "text": [
      "Number of agents: 1\n",
      "Size of each action: 4\n",
      "There are 1 agents. Each observes a state with length: 33\n",
      "The state for the first agent looks like: [ 0.00000000e+00 -4.00000000e+00  0.00000000e+00  1.00000000e+00\n",
      " -0.00000000e+00 -0.00000000e+00 -4.37113883e-08  0.00000000e+00\n",
      "  0.00000000e+00  0.00000000e+00  0.00000000e+00  0.00000000e+00\n",
      "  0.00000000e+00  0.00000000e+00 -1.00000000e+01  0.00000000e+00\n",
      "  1.00000000e+00 -0.00000000e+00 -0.00000000e+00 -4.37113883e-08\n",
      "  0.00000000e+00  0.00000000e+00  0.00000000e+00  0.00000000e+00\n",
      "  0.00000000e+00  0.00000000e+00  5.75471878e+00 -1.00000000e+00\n",
      "  5.55726671e+00  0.00000000e+00  1.00000000e+00  0.00000000e+00\n",
      " -1.68164849e-01]\n"
     ]
    }
   ],
   "source": [
    "# reset the environment\n",
    "env_info = env.reset(train_mode=True)[brain_name]\n",
    "\n",
    "# number of agents\n",
    "num_agents = len(env_info.agents)\n",
    "print('Number of agents:', num_agents)\n",
    "\n",
    "# size of each action\n",
    "action_size = brain.vector_action_space_size\n",
    "print('Size of each action:', action_size)\n",
    "\n",
    "# examine the state space \n",
    "states = env_info.vector_observations\n",
    "state_size = states.shape[1]\n",
    "print('There are {} agents. Each observes a state with length: {}'.format(states.shape[0], state_size))\n",
    "print('The state for the first agent looks like:', states[0])"
   ]
  },
  {
   "cell_type": "markdown",
   "metadata": {},
   "source": [
    "### 3. Take Random Actions in the Environment\n",
    "\n",
    "In the next code cell, you will learn how to use the Python API to control the agent and receive feedback from the environment.\n",
    "\n",
    "Once this cell is executed, you will watch the agent's performance, if it selects an action at random with each time step.  A window should pop up that allows you to observe the agent, as it moves through the environment.  \n",
    "\n",
    "Of course, as part of the project, you'll have to change the code so that the agent is able to use its experience to gradually choose better actions when interacting with the environment!"
   ]
  },
  {
   "cell_type": "code",
   "execution_count": 7,
   "metadata": {},
   "outputs": [
    {
     "name": "stdout",
     "output_type": "stream",
     "text": [
      "Total score (averaged over agents) this episode: 0.14999999664723873\n"
     ]
    }
   ],
   "source": [
    "env_info = env.reset(train_mode=False)[brain_name]     # reset the environment    \n",
    "states = env_info.vector_observations                  # get the current state (for each agent)\n",
    "scores = np.zeros(num_agents)                          # initialize the score (for each agent)\n",
    "all_rewards = []\n",
    "while True:\n",
    "    actions = np.random.randn(num_agents, action_size) # select an action (for each agent)\n",
    "    actions = np.clip(actions, -1, 1)                  # all actions between -1 and 1\n",
    "    env_info = env.step(actions)[brain_name]           # send all actions to tne environment\n",
    "    next_states = env_info.vector_observations         # get next state (for each agent)\n",
    "    rewards = env_info.rewards                         # get reward (for each agent)\n",
    "    all_rewards += rewards\n",
    "    dones = env_info.local_done                        # see if episode finished\n",
    "    scores += env_info.rewards                         # update the score (for each agent)\n",
    "    states = next_states                               # roll over states to next time step\n",
    "    if np.any(dones):                                  # exit loop if episode finished\n",
    "        break\n",
    "print('Total score (averaged over agents) this episode: {}'.format(np.mean(scores)))"
   ]
  },
  {
   "cell_type": "markdown",
   "metadata": {},
   "source": [
    "When finished, you can close the environment."
   ]
  },
  {
   "cell_type": "markdown",
   "metadata": {},
   "source": [
    "env.close()"
   ]
  },
  {
   "cell_type": "markdown",
   "metadata": {},
   "source": [
    "### 4. It's Your Turn!\n",
    "\n",
    "Now it's your turn to train your own agent to solve the environment!  When training the environment, set `train_mode=True`, so that the line for resetting the environment looks like the following:\n",
    "```python\n",
    "env_info = env.reset(train_mode=True)[brain_name]\n",
    "```"
   ]
  },
  {
   "cell_type": "code",
   "execution_count": 30,
   "metadata": {},
   "outputs": [
    {
     "data": {
      "text/plain": [
       "{'visual_observations': [],\n",
       " 'vector_observations': array([[ 0.00000000e+00, -4.00000000e+00,  0.00000000e+00,\n",
       "          1.00000000e+00, -0.00000000e+00, -0.00000000e+00,\n",
       "         -4.37113883e-08,  0.00000000e+00,  0.00000000e+00,\n",
       "          0.00000000e+00,  0.00000000e+00,  0.00000000e+00,\n",
       "          0.00000000e+00,  0.00000000e+00, -1.00000000e+01,\n",
       "          0.00000000e+00,  1.00000000e+00, -0.00000000e+00,\n",
       "         -0.00000000e+00, -4.37113883e-08,  0.00000000e+00,\n",
       "          0.00000000e+00,  0.00000000e+00,  0.00000000e+00,\n",
       "          0.00000000e+00,  0.00000000e+00,  7.90150642e+00,\n",
       "         -1.00000000e+00,  1.25147498e+00,  0.00000000e+00,\n",
       "          1.00000000e+00,  0.00000000e+00, -2.99753308e-01]]),\n",
       " 'text_observations': [''],\n",
       " 'memories': array([], shape=(0, 0), dtype=float64),\n",
       " 'rewards': [0.0],\n",
       " 'local_done': [True],\n",
       " 'max_reached': [True],\n",
       " 'agents': [922],\n",
       " 'previous_vector_actions': array([[0., 0., 0., 0.]]),\n",
       " 'previous_text_actions': ['']}"
      ]
     },
     "execution_count": 30,
     "metadata": {},
     "output_type": "execute_result"
    }
   ],
   "source": [
    "env_info.__dict__"
   ]
  },
  {
   "cell_type": "code",
   "execution_count": 8,
   "metadata": {},
   "outputs": [],
   "source": [
    "class Task:\n",
    "    def __init__(self, env, brain_name):\n",
    "        self.env = env\n",
    "        self.brain_name = brain_name\n",
    "        self.reset()\n",
    "        \n",
    "        uniform = torch.distributions.Uniform(-1, 1)\n",
    "        uniform._batch_shape = torch.Size([1, env.brains[brain_name].vector_action_space_size])\n",
    "        \n",
    "        self.action_space = uniform\n",
    "        \n",
    "    def reset(self, train_mode=False):\n",
    "        out = self.env.reset(train_mode=train_mode)[brain_name]     # reset the environment\n",
    "        return out.vector_observations\n",
    "    \n",
    "    def step(self, action):\n",
    "        out = env.step(action)[self.brain_name]\n",
    "        return (out.vector_observations, out.rewards, out.local_done, out.text_observations)"
   ]
  },
  {
   "cell_type": "code",
   "execution_count": 9,
   "metadata": {},
   "outputs": [],
   "source": [
    "task = Task(env, brain_name)"
   ]
  },
  {
   "cell_type": "code",
   "execution_count": 10,
   "metadata": {},
   "outputs": [],
   "source": [
    "config = {'env': env, 'action_dim': action_size, 'state_dim': state_size}\n",
    "config['task'] = Task(env, brain_name)"
   ]
  },
  {
   "cell_type": "code",
   "execution_count": 11,
   "metadata": {},
   "outputs": [
    {
     "data": {
      "text/plain": [
       "{'env': <unityagents.environment.UnityEnvironment at 0x7f59c3225df0>,\n",
       " 'action_dim': 4,\n",
       " 'state_dim': 33,\n",
       " 'task': <__main__.Task at 0x7f59f1a0adc0>}"
      ]
     },
     "execution_count": 11,
     "metadata": {},
     "output_type": "execute_result"
    }
   ],
   "source": [
    "config"
   ]
  },
  {
   "cell_type": "code",
   "execution_count": 12,
   "metadata": {},
   "outputs": [
    {
     "data": {
      "text/plain": [
       "tensor([[-0.7631, -0.5156, -0.6618,  0.2609]])"
      ]
     },
     "execution_count": 12,
     "metadata": {},
     "output_type": "execute_result"
    }
   ],
   "source": [
    "task.action_space.sample()"
   ]
  },
  {
   "cell_type": "markdown",
   "metadata": {},
   "source": [
    "### Computing random reward"
   ]
  },
  {
   "cell_type": "code",
   "execution_count": 84,
   "metadata": {},
   "outputs": [
    {
     "name": "stdout",
     "output_type": "stream",
     "text": [
      "10: 0.000 | avg. total: 0.084\n",
      "20: 0.000 | avg. total: 0.099\n",
      "30: 0.100 | avg. total: 0.133\n",
      "40: 0.170 | avg. total: 0.136\n",
      "50: 0.000 | avg. total: 0.155\n",
      "60: 0.510 | avg. total: 0.153\n",
      "70: 0.000 | avg. total: 0.149\n",
      "80: 0.000 | avg. total: 0.153\n",
      "90: 0.000 | avg. total: 0.142\n",
      "100: 0.000 | avg. total: 0.146\n",
      "Total score (averaged over agents) this episode: 0.1459999967366457\n"
     ]
    }
   ],
   "source": [
    "num_agents = 1\n",
    "iterations = 100\n",
    "all_scores = np.zeros((num_agents, iterations))\n",
    "for iteration in range(iterations):\n",
    "    env_info = env.reset(train_mode=False)[brain_name]     # reset the environment    \n",
    "    states = env_info.vector_observations                  # get the current state (for each agent)\n",
    "\n",
    "    scores = []\n",
    "    while(True):\n",
    "        actions = np.random.randn(num_agents, action_size) # select an action (for each agent)\n",
    "        actions = np.clip(actions, -1, 1)                  # all actions between -1 and 1\n",
    "        env_info = env.step(actions)[brain_name]           # send all actions to tne environment\n",
    "        next_states = env_info.vector_observations         # get next state (for each agent)\n",
    "        rewards = env_info.rewards                         # get reward (for each agent)\n",
    "        scores += rewards\n",
    "        dones = env_info.local_done                        # see if episode finished\n",
    "        states = next_states                               # roll over states to next time step\n",
    "        if np.any(dones):                                  # exit loop if episode finished\n",
    "            break\n",
    "    all_scores[:, iteration] = np.sum(scores)\n",
    "    if (iteration+1) % 10 == 0:\n",
    "        print(f\"{1+iteration:2}: {np.mean(all_scores[:,iteration]):.3f} | avg. total: {np.mean(all_scores[:,:1+iteration]):.3f}\")\n",
    "\n",
    "print('Total score (averaged over agents) this episode: {}'.format(np.mean(all_scores)))"
   ]
  },
  {
   "cell_type": "code",
   "execution_count": 87,
   "metadata": {},
   "outputs": [
    {
     "data": {
      "text/plain": [
       "[<matplotlib.lines.Line2D at 0x7feb0cdb7460>]"
      ]
     },
     "execution_count": 87,
     "metadata": {},
     "output_type": "execute_result"
    },
    {
     "data": {
      "image/png": "[encoded data removed]",
      "text/plain": [
       "<Figure size 432x288 with 1 Axes>"
      ]
     },
     "metadata": {
      "needs_background": "light"
     },
     "output_type": "display_data"
    }
   ],
   "source": [
    "plt.plot(all_scores.mean(axis=0))"
   ]
  },
  {
   "cell_type": "markdown",
   "metadata": {},
   "source": [
    "## My own invention"
   ]
  },
  {
   "cell_type": "code",
   "execution_count": 19,
   "metadata": {},
   "outputs": [],
   "source": [
    "%autoreload\n",
    "from DDPG_agent import DDPGAgent\n",
    "\n",
    "agent = DDPGAgent(config)"
   ]
  },
  {
   "cell_type": "code",
   "execution_count": 20,
   "metadata": {},
   "outputs": [
    {
     "name": "stdout",
     "output_type": "stream",
     "text": [
      "DeterministicActorCriticNet(\n",
      "  (phi_body): DummyBody()\n",
      "  (actor_body): ActorBody(\n",
      "    (layers): ModuleList(\n",
      "      (0): Linear(in_features=33, out_features=400, bias=True)\n",
      "      (1): Linear(in_features=400, out_features=300, bias=True)\n",
      "    )\n",
      "    (dropout): Dropout(p=0.2, inplace=False)\n",
      "  )\n",
      "  (critic_body): CriticBody(\n",
      "    (fc1): Linear(in_features=33, out_features=300, bias=True)\n",
      "    (fc2): Linear(in_features=304, out_features=300, bias=True)\n",
      "  )\n",
      "  (fc_action): Linear(in_features=300, out_features=4, bias=True)\n",
      "  (fc_critic): Linear(in_features=300, out_features=1, bias=True)\n",
      ")\n",
      "DeterministicActorCriticNet(\n",
      "  (phi_body): DummyBody()\n",
      "  (actor_body): ActorBody(\n",
      "    (layers): ModuleList(\n",
      "      (0): Linear(in_features=33, out_features=400, bias=True)\n",
      "      (1): Linear(in_features=400, out_features=300, bias=True)\n",
      "    )\n",
      "    (dropout): Dropout(p=0.2, inplace=False)\n",
      "  )\n",
      "  (critic_body): CriticBody(\n",
      "    (fc1): Linear(in_features=33, out_features=300, bias=True)\n",
      "    (fc2): Linear(in_features=304, out_features=300, bias=True)\n",
      "  )\n",
      "  (fc_action): Linear(in_features=300, out_features=4, bias=True)\n",
      "  (fc_critic): Linear(in_features=300, out_features=1, bias=True)\n",
      ")\n"
     ]
    }
   ],
   "source": [
    "print(agent.network)\n",
    "print(agent.target_network)"
   ]
  },
  {
   "cell_type": "code",
   "execution_count": 57,
   "metadata": {
    "scrolled": false
   },
   "outputs": [
    {
     "name": "stdout",
     "output_type": "stream",
     "text": [
      " 1: 0.800 | avg. last 100: 0.800\n",
      " 2: 0.000 | avg. last 100: 0.400\n",
      " 3: 0.300 | avg. last 100: 0.367\n",
      " 4: 0.000 | avg. last 100: 0.275\n",
      " 5: 0.000 | avg. last 100: 0.220\n",
      " 6: 0.400 | avg. last 100: 0.250\n",
      " 7: 0.700 | avg. last 100: 0.314\n",
      " 8: 0.000 | avg. last 100: 0.275\n",
      " 9: 0.000 | avg. last 100: 0.244\n",
      "10: 0.000 | avg. last 100: 0.220\n",
      "11: 0.400 | avg. last 100: 0.236\n",
      "12: 0.000 | avg. last 100: 0.217\n",
      "13: 2.600 | avg. last 100: 0.400\n",
      "14: 1.000 | avg. last 100: 0.443\n",
      "15: 2.300 | avg. last 100: 0.567\n",
      "16: 0.000 | avg. last 100: 0.531\n",
      "17: 1.400 | avg. last 100: 0.582\n",
      "18: 0.700 | avg. last 100: 0.589\n",
      "19: 7.300 | avg. last 100: 0.942\n",
      "20: 4.500 | avg. last 100: 1.120\n",
      "21: 4.200 | avg. last 100: 1.267\n",
      "22: 4.400 | avg. last 100: 1.409\n",
      "23: 4.600 | avg. last 100: 1.548\n",
      "24: 4.000 | avg. last 100: 1.650\n",
      "25: 4.600 | avg. last 100: 1.768\n",
      "26: 5.300 | avg. last 100: 1.904\n",
      "27: 8.300 | avg. last 100: 2.141\n",
      "28: 5.500 | avg. last 100: 2.261\n",
      "29: 6.700 | avg. last 100: 2.414\n",
      "30: 11.100 | avg. last 100: 2.703\n",
      "31: 14.100 | avg. last 100: 3.071\n",
      "32: 4.600 | avg. last 100: 3.119\n",
      "33: 8.000 | avg. last 100: 3.267\n",
      "34: 2.300 | avg. last 100: 3.238\n",
      "35: 13.300 | avg. last 100: 3.526\n",
      "36: 8.600 | avg. last 100: 3.667\n",
      "37: 10.400 | avg. last 100: 3.849\n",
      "38: 15.400 | avg. last 100: 4.153\n",
      "39: 5.400 | avg. last 100: 4.185\n",
      "40: 17.100 | avg. last 100: 4.508\n",
      "41: 14.800 | avg. last 100: 4.759\n",
      "42: 6.900 | avg. last 100: 4.810\n",
      "43: 14.200 | avg. last 100: 5.028\n",
      "44: 12.000 | avg. last 100: 5.186\n",
      "45: 10.200 | avg. last 100: 5.298\n",
      "46: 3.500 | avg. last 100: 5.259\n",
      "47: 18.400 | avg. last 100: 5.538\n",
      "48: 15.300 | avg. last 100: 5.742\n",
      "49: 11.100 | avg. last 100: 5.851\n",
      "50: 22.000 | avg. last 100: 6.174\n",
      "51: 14.400 | avg. last 100: 6.335\n",
      "52: 22.700 | avg. last 100: 6.650\n",
      "53: 11.500 | avg. last 100: 6.742\n",
      "54: 29.400 | avg. last 100: 7.161\n",
      "55: 36.700 | avg. last 100: 7.698\n",
      "56: 23.700 | avg. last 100: 7.984\n",
      "57: 14.500 | avg. last 100: 8.098\n",
      "58: 39.200 | avg. last 100: 8.634\n",
      "59: 30.800 | avg. last 100: 9.010\n",
      "60: 11.800 | avg. last 100: 9.057\n",
      "61: 10.600 | avg. last 100: 9.082\n",
      "62: 15.900 | avg. last 100: 9.192\n",
      "63: 8.500 | avg. last 100: 9.181\n",
      "64: 16.300 | avg. last 100: 9.292\n",
      "65: 19.800 | avg. last 100: 9.454\n",
      "66: 24.800 | avg. last 100: 9.686\n",
      "67: 17.700 | avg. last 100: 9.806\n",
      "68: 15.600 | avg. last 100: 9.891\n",
      "69: 23.700 | avg. last 100: 10.091\n",
      "70: 25.900 | avg. last 100: 10.317\n",
      "71: 22.300 | avg. last 100: 10.486\n",
      "72: 33.400 | avg. last 100: 10.804\n",
      "73: 19.600 | avg. last 100: 10.925\n",
      "74: 17.400 | avg. last 100: 11.012\n",
      "75: 26.400 | avg. last 100: 11.217\n",
      "76: 11.800 | avg. last 100: 11.225\n",
      "77: 15.700 | avg. last 100: 11.283\n",
      "78: 36.200 | avg. last 100: 11.603\n",
      "79: 13.800 | avg. last 100: 11.630\n",
      "80: 28.800 | avg. last 100: 11.845\n",
      "81: 24.300 | avg. last 100: 11.999\n",
      "82: 27.800 | avg. last 100: 12.191\n",
      "83: 21.400 | avg. last 100: 12.302\n",
      "84: 30.700 | avg. last 100: 12.521\n",
      "85: 23.500 | avg. last 100: 12.651\n",
      "86: 16.100 | avg. last 100: 12.691\n",
      "87: 36.300 | avg. last 100: 12.962\n",
      "88: 33.000 | avg. last 100: 13.190\n",
      "89: 23.300 | avg. last 100: 13.303\n",
      "90: 39.900 | avg. last 100: 13.599\n",
      "91: 25.500 | avg. last 100: 13.730\n",
      "92: 32.600 | avg. last 100: 13.935\n",
      "93: 30.000 | avg. last 100: 14.108\n",
      "94: 25.400 | avg. last 100: 14.228\n",
      "95: 33.500 | avg. last 100: 14.431\n",
      "96: 23.400 | avg. last 100: 14.524\n",
      "97: 20.500 | avg. last 100: 14.586\n",
      "98: 32.600 | avg. last 100: 14.769\n",
      "99: 19.600 | avg. last 100: 14.818\n",
      "100: 16.000 | avg. last 100: 14.830\n",
      "101: 16.900 | avg. last 100: 14.991\n",
      "102: 25.000 | avg. last 100: 15.241\n",
      "103: 16.400 | avg. last 100: 15.402\n",
      "104: 35.800 | avg. last 100: 15.760\n",
      "105: 23.900 | avg. last 100: 15.999\n",
      "106: 30.500 | avg. last 100: 16.300\n",
      "107: 22.200 | avg. last 100: 16.515\n",
      "108: 38.800 | avg. last 100: 16.903\n",
      "109: 35.900 | avg. last 100: 17.262\n",
      "110: 38.200 | avg. last 100: 17.644\n",
      "111: 24.900 | avg. last 100: 17.889\n",
      "112: 38.500 | avg. last 100: 18.274\n",
      "113: 18.000 | avg. last 100: 18.428\n",
      "114: 28.400 | avg. last 100: 18.702\n",
      "115: 36.200 | avg. last 100: 19.041\n",
      "116: 25.000 | avg. last 100: 19.291\n",
      "117: 17.200 | avg. last 100: 19.449\n",
      "118: 19.300 | avg. last 100: 19.635\n",
      "119: 21.300 | avg. last 100: 19.775\n",
      "120: 33.600 | avg. last 100: 20.066\n",
      "121: 20.700 | avg. last 100: 20.231\n",
      "122: 27.600 | avg. last 100: 20.463\n",
      "123: 36.800 | avg. last 100: 20.785\n",
      "124: 37.400 | avg. last 100: 21.119\n",
      "125: 20.500 | avg. last 100: 21.278\n",
      "126: 26.500 | avg. last 100: 21.490\n",
      "127: 54.700 | avg. last 100: 21.954\n",
      "128: 26.300 | avg. last 100: 22.162\n",
      "129: 38.400 | avg. last 100: 22.479\n",
      "130: 24.100 | avg. last 100: 22.609\n",
      "131: 31.200 | avg. last 100: 22.780\n",
      "132: 31.100 | avg. last 100: 23.045\n",
      "133: 32.000 | avg. last 100: 23.285\n",
      "134: 32.700 | avg. last 100: 23.589\n",
      "135: 44.000 | avg. last 100: 23.896\n",
      "136: 36.900 | avg. last 100: 24.179\n",
      "137: 39.800 | avg. last 100: 24.473\n",
      "138: 26.700 | avg. last 100: 24.586\n",
      "139: 25.700 | avg. last 100: 24.789\n",
      "140: 30.600 | avg. last 100: 24.924\n",
      "141: 31.300 | avg. last 100: 25.089\n",
      "142: 34.100 | avg. last 100: 25.361\n",
      "143: 26.100 | avg. last 100: 25.480\n",
      "144: 47.500 | avg. last 100: 25.835\n",
      "145: 29.700 | avg. last 100: 26.030\n",
      "146: 36.100 | avg. last 100: 26.356\n",
      "147: 25.500 | avg. last 100: 26.427\n",
      "148: 56.800 | avg. last 100: 26.842\n",
      "149: 27.500 | avg. last 100: 27.006\n",
      "150: 27.100 | avg. last 100: 27.057\n",
      "151: 39.300 | avg. last 100: 27.306\n",
      "152: 37.600 | avg. last 100: 27.455\n",
      "153: 44.400 | avg. last 100: 27.784\n",
      "154: 36.500 | avg. last 100: 27.855\n",
      "155: 22.100 | avg. last 100: 27.709\n",
      "156: 35.900 | avg. last 100: 27.831\n",
      "157: 49.000 | avg. last 100: 28.176\n",
      "158: 83.000 | avg. last 100: 28.614\n",
      "159: 26.400 | avg. last 100: 28.570\n",
      "160: 29.900 | avg. last 100: 28.751\n",
      "161: 27.300 | avg. last 100: 28.918\n",
      "162: 31.100 | avg. last 100: 29.070\n",
      "163: 49.400 | avg. last 100: 29.479\n",
      "164: 45.700 | avg. last 100: 29.773\n",
      "165: 45.400 | avg. last 100: 30.029\n",
      "Obtained 30 on average! Awesome job everyone\n",
      "CPU times: user 20min 6s, sys: 29.4 s, total: 20min 36s\n",
      "Wall time: 30min 45s\n"
     ]
    }
   ],
   "source": [
    "%%time\n",
    "all_rewards = []\n",
    "for idx in range(1, 501):\n",
    "    rewards = agent.step()\n",
    "    all_rewards.append(np.sum(rewards))\n",
    "    print(f\"{idx:2}: {all_rewards[-1]:.3f} | avg. last 100: {np.mean(all_rewards[-100:]):.3f}\")\n",
    "\n",
    "    if np.mean(all_rewards[-100:]) > 30:\n",
    "        print(\"Obtained 30 on average! Awesome job everyone\")\n",
    "        torch.save(agent.network.state_dict(), 'checkpoint_network.pth')\n",
    "        torch.save(agent.target_network.state_dict(), 'checkpoint_target_network.pth')\n",
    "        break"
   ]
  },
  {
   "cell_type": "code",
   "execution_count": 85,
   "metadata": {},
   "outputs": [],
   "source": [
    "def moving_average(a, n=100) :\n",
    "    ret = np.cumsum(np.concatenate([np.zeros(n), a]), dtype=float)\n",
    "    ret[n:] = ret[n:] - ret[:-n]\n",
    "    n_arr = np.clip(np.arange(1, len(a)+1), 1, n)\n",
    "    return ret[n:] / n_arr"
   ]
  },
  {
   "cell_type": "code",
   "execution_count": 98,
   "metadata": {},
   "outputs": [
    {
     "data": {
      "text/plain": [
       "<matplotlib.legend.Legend at 0x7f576f5f8ac0>"
      ]
     },
     "execution_count": 98,
     "metadata": {},
     "output_type": "execute_result"
    },
    {
     "data": {
      "image/png": "[encoded data removed]",
      "text/plain": [
       "<Figure size 864x576 with 1 Axes>"
      ]
     },
     "metadata": {
      "needs_background": "light"
     },
     "output_type": "display_data"
    }
   ],
   "source": [
    "n = 100\n",
    "plt.figure(figsize=(12, 8))\n",
    "plt.plot(all_rewards, label='rewards')\n",
    "plt.plot(moving_average(all_rewards, n=n), 'r--', label=f'avg last {n}')\n",
    "plt.plot(moving_average(all_rewards, n=20), 'g-.', label=f'avg last {20}')\n",
    "plt.axhline(30, color='black')\n",
    "plt.grid(True)\n",
    "plt.legend()"
   ]
  },
  {
   "cell_type": "markdown",
   "metadata": {},
   "source": [
    "## Testing our invention"
   ]
  },
  {
   "cell_type": "code",
   "execution_count": 21,
   "metadata": {},
   "outputs": [
    {
     "data": {
      "text/plain": [
       "<All keys matched successfully>"
      ]
     },
     "execution_count": 21,
     "metadata": {},
     "output_type": "execute_result"
    }
   ],
   "source": [
    "agent.network.load_state_dict(torch.load('checkpoint_network.pth'))\n",
    "agent.target_network.load_state_dict(torch.load('checkpoint_target_network.pth'))"
   ]
  },
  {
   "cell_type": "code",
   "execution_count": 43,
   "metadata": {},
   "outputs": [
    {
     "name": "stdout",
     "output_type": "stream",
     "text": [
      "Total (not adjusted) rewards this episode: 20.469999542459846\n",
      "Total reward (but adjusted to count that rewards aren't 0.1) this episode: 52.599999999999994\n"
     ]
    }
   ],
   "source": [
    "env_info = env.reset(train_mode=False)[brain_name]     # reset the environment    \n",
    "states = env_info.vector_observations                  # get the current state (for each agent)\n",
    "\n",
    "scores = []\n",
    "while(True):\n",
    "    actions = agent.eval_step(states)\n",
    "    env_info = env.step(actions)[brain_name]\n",
    "    states = env_info.vector_observations\n",
    "    scores += env_info.rewards\n",
    "    dones = env_info.local_done\n",
    "    if np.any(dones):                                  # exit loop if episode finished\n",
    "        break\n",
    "\n",
    "scaled_rewards = (np.array(scores)!=0) * 0.1\n",
    "\n",
    "print(f'Total (not adjusted) rewards this episode: {sum(scores)}')\n",
    "print(f\"Total reward (but adjusted to count that rewards aren't 0.1) this episode: {np.sum(scaled_rewards)}\")"
   ]
  }
 ],
 "metadata": {
  "kernelspec": {
   "display_name": "Python 3",
   "language": "python",
   "name": "python3"
  },
  "language_info": {
   "codemirror_mode": {
    "name": "ipython",
    "version": 3
   },
   "file_extension": ".py",
   "mimetype": "text/x-python",
   "name": "python",
   "nbconvert_exporter": "python",
   "pygments_lexer": "ipython3",
   "version": "3.8.2"
  }
 },
 "nbformat": 4,
 "nbformat_minor": 2
}
